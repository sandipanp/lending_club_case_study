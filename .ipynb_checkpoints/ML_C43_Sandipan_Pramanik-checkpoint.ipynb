{
 "cells": [
  {
   "cell_type": "markdown",
   "id": "39ea7aac",
   "metadata": {},
   "source": [
    "## Lending club Case Study"
   ]
  },
  {
   "cell_type": "markdown",
   "id": "336ae812",
   "metadata": {},
   "source": [
    "LendingClub is USA’s largest lending marketplace, connecting borrowers with investors since 2007.\n",
    "\n",
    "Both borrower and investor are registered as a member of Lending club. Borrower applied for loan, then lending club platform perform some risk analysis on the applied loan and pass it to investors with approved ammount ( lenders/Investors ). \n",
    "\n",
    "Lenders ( Investors ) makes money from the interest they get from money they lend and Lending club makes money from source fees and other fees."
   ]
  },
  {
   "cell_type": "code",
   "execution_count": 480,
   "id": "aa047d10",
   "metadata": {},
   "outputs": [],
   "source": [
    "import pandas as pd\n",
    "import numpy as np\n",
    "import matplotlib.pyplot as plt\n",
    "%matplotlib inline\n",
    "import warnings\n",
    "warnings.filterwarnings(\"ignore\")\n",
    "import seaborn as sns"
   ]
  },
  {
   "cell_type": "code",
   "execution_count": 481,
   "id": "749b13cc",
   "metadata": {},
   "outputs": [
    {
     "data": {
      "text/html": [
       "<div>\n",
       "<style scoped>\n",
       "    .dataframe tbody tr th:only-of-type {\n",
       "        vertical-align: middle;\n",
       "    }\n",
       "\n",
       "    .dataframe tbody tr th {\n",
       "        vertical-align: top;\n",
       "    }\n",
       "\n",
       "    .dataframe thead th {\n",
       "        text-align: right;\n",
       "    }\n",
       "</style>\n",
       "<table border=\"1\" class=\"dataframe\">\n",
       "  <thead>\n",
       "    <tr style=\"text-align: right;\">\n",
       "      <th></th>\n",
       "      <th>id</th>\n",
       "      <th>member_id</th>\n",
       "      <th>loan_amnt</th>\n",
       "      <th>funded_amnt</th>\n",
       "      <th>funded_amnt_inv</th>\n",
       "      <th>term</th>\n",
       "      <th>int_rate</th>\n",
       "      <th>installment</th>\n",
       "      <th>grade</th>\n",
       "      <th>sub_grade</th>\n",
       "      <th>...</th>\n",
       "      <th>num_tl_90g_dpd_24m</th>\n",
       "      <th>num_tl_op_past_12m</th>\n",
       "      <th>pct_tl_nvr_dlq</th>\n",
       "      <th>percent_bc_gt_75</th>\n",
       "      <th>pub_rec_bankruptcies</th>\n",
       "      <th>tax_liens</th>\n",
       "      <th>tot_hi_cred_lim</th>\n",
       "      <th>total_bal_ex_mort</th>\n",
       "      <th>total_bc_limit</th>\n",
       "      <th>total_il_high_credit_limit</th>\n",
       "    </tr>\n",
       "  </thead>\n",
       "  <tbody>\n",
       "    <tr>\n",
       "      <th>0</th>\n",
       "      <td>1077501</td>\n",
       "      <td>1296599</td>\n",
       "      <td>5000</td>\n",
       "      <td>5000</td>\n",
       "      <td>4975.0</td>\n",
       "      <td>36 months</td>\n",
       "      <td>10.65%</td>\n",
       "      <td>162.87</td>\n",
       "      <td>B</td>\n",
       "      <td>B2</td>\n",
       "      <td>...</td>\n",
       "      <td>NaN</td>\n",
       "      <td>NaN</td>\n",
       "      <td>NaN</td>\n",
       "      <td>NaN</td>\n",
       "      <td>0.0</td>\n",
       "      <td>0.0</td>\n",
       "      <td>NaN</td>\n",
       "      <td>NaN</td>\n",
       "      <td>NaN</td>\n",
       "      <td>NaN</td>\n",
       "    </tr>\n",
       "    <tr>\n",
       "      <th>1</th>\n",
       "      <td>1077430</td>\n",
       "      <td>1314167</td>\n",
       "      <td>2500</td>\n",
       "      <td>2500</td>\n",
       "      <td>2500.0</td>\n",
       "      <td>60 months</td>\n",
       "      <td>15.27%</td>\n",
       "      <td>59.83</td>\n",
       "      <td>C</td>\n",
       "      <td>C4</td>\n",
       "      <td>...</td>\n",
       "      <td>NaN</td>\n",
       "      <td>NaN</td>\n",
       "      <td>NaN</td>\n",
       "      <td>NaN</td>\n",
       "      <td>0.0</td>\n",
       "      <td>0.0</td>\n",
       "      <td>NaN</td>\n",
       "      <td>NaN</td>\n",
       "      <td>NaN</td>\n",
       "      <td>NaN</td>\n",
       "    </tr>\n",
       "    <tr>\n",
       "      <th>2</th>\n",
       "      <td>1077175</td>\n",
       "      <td>1313524</td>\n",
       "      <td>2400</td>\n",
       "      <td>2400</td>\n",
       "      <td>2400.0</td>\n",
       "      <td>36 months</td>\n",
       "      <td>15.96%</td>\n",
       "      <td>84.33</td>\n",
       "      <td>C</td>\n",
       "      <td>C5</td>\n",
       "      <td>...</td>\n",
       "      <td>NaN</td>\n",
       "      <td>NaN</td>\n",
       "      <td>NaN</td>\n",
       "      <td>NaN</td>\n",
       "      <td>0.0</td>\n",
       "      <td>0.0</td>\n",
       "      <td>NaN</td>\n",
       "      <td>NaN</td>\n",
       "      <td>NaN</td>\n",
       "      <td>NaN</td>\n",
       "    </tr>\n",
       "    <tr>\n",
       "      <th>3</th>\n",
       "      <td>1076863</td>\n",
       "      <td>1277178</td>\n",
       "      <td>10000</td>\n",
       "      <td>10000</td>\n",
       "      <td>10000.0</td>\n",
       "      <td>36 months</td>\n",
       "      <td>13.49%</td>\n",
       "      <td>339.31</td>\n",
       "      <td>C</td>\n",
       "      <td>C1</td>\n",
       "      <td>...</td>\n",
       "      <td>NaN</td>\n",
       "      <td>NaN</td>\n",
       "      <td>NaN</td>\n",
       "      <td>NaN</td>\n",
       "      <td>0.0</td>\n",
       "      <td>0.0</td>\n",
       "      <td>NaN</td>\n",
       "      <td>NaN</td>\n",
       "      <td>NaN</td>\n",
       "      <td>NaN</td>\n",
       "    </tr>\n",
       "    <tr>\n",
       "      <th>4</th>\n",
       "      <td>1075358</td>\n",
       "      <td>1311748</td>\n",
       "      <td>3000</td>\n",
       "      <td>3000</td>\n",
       "      <td>3000.0</td>\n",
       "      <td>60 months</td>\n",
       "      <td>12.69%</td>\n",
       "      <td>67.79</td>\n",
       "      <td>B</td>\n",
       "      <td>B5</td>\n",
       "      <td>...</td>\n",
       "      <td>NaN</td>\n",
       "      <td>NaN</td>\n",
       "      <td>NaN</td>\n",
       "      <td>NaN</td>\n",
       "      <td>0.0</td>\n",
       "      <td>0.0</td>\n",
       "      <td>NaN</td>\n",
       "      <td>NaN</td>\n",
       "      <td>NaN</td>\n",
       "      <td>NaN</td>\n",
       "    </tr>\n",
       "  </tbody>\n",
       "</table>\n",
       "<p>5 rows × 111 columns</p>\n",
       "</div>"
      ],
      "text/plain": [
       "        id  member_id  loan_amnt  funded_amnt  funded_amnt_inv        term  \\\n",
       "0  1077501    1296599       5000         5000           4975.0   36 months   \n",
       "1  1077430    1314167       2500         2500           2500.0   60 months   \n",
       "2  1077175    1313524       2400         2400           2400.0   36 months   \n",
       "3  1076863    1277178      10000        10000          10000.0   36 months   \n",
       "4  1075358    1311748       3000         3000           3000.0   60 months   \n",
       "\n",
       "  int_rate  installment grade sub_grade  ... num_tl_90g_dpd_24m  \\\n",
       "0   10.65%       162.87     B        B2  ...                NaN   \n",
       "1   15.27%        59.83     C        C4  ...                NaN   \n",
       "2   15.96%        84.33     C        C5  ...                NaN   \n",
       "3   13.49%       339.31     C        C1  ...                NaN   \n",
       "4   12.69%        67.79     B        B5  ...                NaN   \n",
       "\n",
       "  num_tl_op_past_12m pct_tl_nvr_dlq  percent_bc_gt_75 pub_rec_bankruptcies  \\\n",
       "0                NaN            NaN               NaN                  0.0   \n",
       "1                NaN            NaN               NaN                  0.0   \n",
       "2                NaN            NaN               NaN                  0.0   \n",
       "3                NaN            NaN               NaN                  0.0   \n",
       "4                NaN            NaN               NaN                  0.0   \n",
       "\n",
       "  tax_liens tot_hi_cred_lim total_bal_ex_mort total_bc_limit  \\\n",
       "0       0.0             NaN               NaN            NaN   \n",
       "1       0.0             NaN               NaN            NaN   \n",
       "2       0.0             NaN               NaN            NaN   \n",
       "3       0.0             NaN               NaN            NaN   \n",
       "4       0.0             NaN               NaN            NaN   \n",
       "\n",
       "  total_il_high_credit_limit  \n",
       "0                        NaN  \n",
       "1                        NaN  \n",
       "2                        NaN  \n",
       "3                        NaN  \n",
       "4                        NaN  \n",
       "\n",
       "[5 rows x 111 columns]"
      ]
     },
     "execution_count": 481,
     "metadata": {},
     "output_type": "execute_result"
    }
   ],
   "source": [
    "# Loading loan data\n",
    "loan = pd.read_csv(\"loan/loan.csv\")\n",
    "loan.head()"
   ]
  },
  {
   "cell_type": "code",
   "execution_count": 482,
   "id": "0a5895f7",
   "metadata": {},
   "outputs": [
    {
     "data": {
      "text/plain": [
       "(39717, 111)"
      ]
     },
     "execution_count": 482,
     "metadata": {},
     "output_type": "execute_result"
    }
   ],
   "source": [
    "#Detrmining the number of column and rows\n",
    "\n",
    "loan.shape"
   ]
  },
  {
   "cell_type": "markdown",
   "id": "868ebc23",
   "metadata": {},
   "source": [
    "##### Observations :  \n",
    "1. There are 39717 rows and 111 features. So data set is a high dimentional data set. \n",
    "2. We also find there are lots of features that is having only NA value which will not contribute to our analysys.\n",
    "3. There are few features having same constant values which will not contribute to our analysis.\n",
    "4. There are identity columns having unique values which will add any value to the data set for analysis."
   ]
  },
  {
   "cell_type": "markdown",
   "id": "a9e1f50d",
   "metadata": {},
   "source": [
    "####  Checking and dropping the columns ( features ) having null values"
   ]
  },
  {
   "cell_type": "code",
   "execution_count": 483,
   "id": "91929bc6",
   "metadata": {},
   "outputs": [
    {
     "data": {
      "text/plain": [
       "id                                 0\n",
       "member_id                          0\n",
       "loan_amnt                          0\n",
       "funded_amnt                        0\n",
       "funded_amnt_inv                    0\n",
       "term                               0\n",
       "int_rate                           0\n",
       "installment                        0\n",
       "grade                              0\n",
       "sub_grade                          0\n",
       "emp_title                       2459\n",
       "emp_length                      1075\n",
       "home_ownership                     0\n",
       "annual_inc                         0\n",
       "verification_status                0\n",
       "issue_d                            0\n",
       "loan_status                        0\n",
       "pymnt_plan                         0\n",
       "url                                0\n",
       "desc                           12940\n",
       "purpose                            0\n",
       "title                             11\n",
       "zip_code                           0\n",
       "addr_state                         0\n",
       "dti                                0\n",
       "delinq_2yrs                        0\n",
       "earliest_cr_line                   0\n",
       "inq_last_6mths                     0\n",
       "mths_since_last_delinq         25682\n",
       "mths_since_last_record         36931\n",
       "open_acc                           0\n",
       "pub_rec                            0\n",
       "revol_bal                          0\n",
       "revol_util                        50\n",
       "total_acc                          0\n",
       "initial_list_status                0\n",
       "out_prncp                          0\n",
       "out_prncp_inv                      0\n",
       "total_pymnt                        0\n",
       "total_pymnt_inv                    0\n",
       "total_rec_prncp                    0\n",
       "total_rec_int                      0\n",
       "total_rec_late_fee                 0\n",
       "recoveries                         0\n",
       "collection_recovery_fee            0\n",
       "last_pymnt_d                      71\n",
       "last_pymnt_amnt                    0\n",
       "next_pymnt_d                   38577\n",
       "last_credit_pull_d                 2\n",
       "collections_12_mths_ex_med        56\n",
       "mths_since_last_major_derog    39717\n",
       "policy_code                        0\n",
       "application_type                   0\n",
       "annual_inc_joint               39717\n",
       "dti_joint                      39717\n",
       "dtype: int64"
      ]
     },
     "execution_count": 483,
     "metadata": {},
     "output_type": "execute_result"
    }
   ],
   "source": [
    "#checking first half of the columns for null value\n",
    "loan.isnull().sum().head(int(loan.shape[1]/2))"
   ]
  },
  {
   "cell_type": "code",
   "execution_count": 484,
   "id": "a2d77388",
   "metadata": {},
   "outputs": [
    {
     "data": {
      "text/plain": [
       "acc_now_delinq                        0\n",
       "tot_coll_amt                      39717\n",
       "tot_cur_bal                       39717\n",
       "open_acc_6m                       39717\n",
       "open_il_6m                        39717\n",
       "open_il_12m                       39717\n",
       "open_il_24m                       39717\n",
       "mths_since_rcnt_il                39717\n",
       "total_bal_il                      39717\n",
       "il_util                           39717\n",
       "open_rv_12m                       39717\n",
       "open_rv_24m                       39717\n",
       "max_bal_bc                        39717\n",
       "all_util                          39717\n",
       "total_rev_hi_lim                  39717\n",
       "inq_fi                            39717\n",
       "total_cu_tl                       39717\n",
       "inq_last_12m                      39717\n",
       "acc_open_past_24mths              39717\n",
       "avg_cur_bal                       39717\n",
       "bc_open_to_buy                    39717\n",
       "bc_util                           39717\n",
       "chargeoff_within_12_mths             56\n",
       "delinq_amnt                           0\n",
       "mo_sin_old_il_acct                39717\n",
       "mo_sin_old_rev_tl_op              39717\n",
       "mo_sin_rcnt_rev_tl_op             39717\n",
       "mo_sin_rcnt_tl                    39717\n",
       "mort_acc                          39717\n",
       "mths_since_recent_bc              39717\n",
       "mths_since_recent_bc_dlq          39717\n",
       "mths_since_recent_inq             39717\n",
       "mths_since_recent_revol_delinq    39717\n",
       "num_accts_ever_120_pd             39717\n",
       "num_actv_bc_tl                    39717\n",
       "num_actv_rev_tl                   39717\n",
       "num_bc_sats                       39717\n",
       "num_bc_tl                         39717\n",
       "num_il_tl                         39717\n",
       "num_op_rev_tl                     39717\n",
       "num_rev_accts                     39717\n",
       "num_rev_tl_bal_gt_0               39717\n",
       "num_sats                          39717\n",
       "num_tl_120dpd_2m                  39717\n",
       "num_tl_30dpd                      39717\n",
       "num_tl_90g_dpd_24m                39717\n",
       "num_tl_op_past_12m                39717\n",
       "pct_tl_nvr_dlq                    39717\n",
       "percent_bc_gt_75                  39717\n",
       "pub_rec_bankruptcies                697\n",
       "tax_liens                            39\n",
       "tot_hi_cred_lim                   39717\n",
       "total_bal_ex_mort                 39717\n",
       "total_bc_limit                    39717\n",
       "total_il_high_credit_limit        39717\n",
       "dtype: int64"
      ]
     },
     "execution_count": 484,
     "metadata": {},
     "output_type": "execute_result"
    }
   ],
   "source": [
    "#checking second half of the columns for null values\n",
    "loan.isnull().sum().tail(int(loan.shape[1]/2))"
   ]
  },
  {
   "cell_type": "code",
   "execution_count": 485,
   "id": "4dc16099",
   "metadata": {},
   "outputs": [],
   "source": [
    "#Dropping columns having all null values\n",
    "loan.dropna(axis=1, how='all', inplace=True)"
   ]
  },
  {
   "cell_type": "code",
   "execution_count": 486,
   "id": "7b6ded48",
   "metadata": {},
   "outputs": [
    {
     "data": {
      "text/plain": [
       "(39717, 57)"
      ]
     },
     "execution_count": 486,
     "metadata": {},
     "output_type": "execute_result"
    }
   ],
   "source": [
    "# There was ( 111-57) = 54 columns having all null value. Now the number of column become 57.\n",
    "loan.shape"
   ]
  },
  {
   "cell_type": "code",
   "execution_count": 487,
   "id": "d9ac48b5",
   "metadata": {},
   "outputs": [
    {
     "name": "stdout",
     "output_type": "stream",
     "text": [
      "<class 'pandas.core.frame.DataFrame'>\n",
      "RangeIndex: 39717 entries, 0 to 39716\n",
      "Data columns (total 57 columns):\n",
      " #   Column                      Non-Null Count  Dtype  \n",
      "---  ------                      --------------  -----  \n",
      " 0   id                          39717 non-null  int64  \n",
      " 1   member_id                   39717 non-null  int64  \n",
      " 2   loan_amnt                   39717 non-null  int64  \n",
      " 3   funded_amnt                 39717 non-null  int64  \n",
      " 4   funded_amnt_inv             39717 non-null  float64\n",
      " 5   term                        39717 non-null  object \n",
      " 6   int_rate                    39717 non-null  object \n",
      " 7   installment                 39717 non-null  float64\n",
      " 8   grade                       39717 non-null  object \n",
      " 9   sub_grade                   39717 non-null  object \n",
      " 10  emp_title                   37258 non-null  object \n",
      " 11  emp_length                  38642 non-null  object \n",
      " 12  home_ownership              39717 non-null  object \n",
      " 13  annual_inc                  39717 non-null  float64\n",
      " 14  verification_status         39717 non-null  object \n",
      " 15  issue_d                     39717 non-null  object \n",
      " 16  loan_status                 39717 non-null  object \n",
      " 17  pymnt_plan                  39717 non-null  object \n",
      " 18  url                         39717 non-null  object \n",
      " 19  desc                        26777 non-null  object \n",
      " 20  purpose                     39717 non-null  object \n",
      " 21  title                       39706 non-null  object \n",
      " 22  zip_code                    39717 non-null  object \n",
      " 23  addr_state                  39717 non-null  object \n",
      " 24  dti                         39717 non-null  float64\n",
      " 25  delinq_2yrs                 39717 non-null  int64  \n",
      " 26  earliest_cr_line            39717 non-null  object \n",
      " 27  inq_last_6mths              39717 non-null  int64  \n",
      " 28  mths_since_last_delinq      14035 non-null  float64\n",
      " 29  mths_since_last_record      2786 non-null   float64\n",
      " 30  open_acc                    39717 non-null  int64  \n",
      " 31  pub_rec                     39717 non-null  int64  \n",
      " 32  revol_bal                   39717 non-null  int64  \n",
      " 33  revol_util                  39667 non-null  object \n",
      " 34  total_acc                   39717 non-null  int64  \n",
      " 35  initial_list_status         39717 non-null  object \n",
      " 36  out_prncp                   39717 non-null  float64\n",
      " 37  out_prncp_inv               39717 non-null  float64\n",
      " 38  total_pymnt                 39717 non-null  float64\n",
      " 39  total_pymnt_inv             39717 non-null  float64\n",
      " 40  total_rec_prncp             39717 non-null  float64\n",
      " 41  total_rec_int               39717 non-null  float64\n",
      " 42  total_rec_late_fee          39717 non-null  float64\n",
      " 43  recoveries                  39717 non-null  float64\n",
      " 44  collection_recovery_fee     39717 non-null  float64\n",
      " 45  last_pymnt_d                39646 non-null  object \n",
      " 46  last_pymnt_amnt             39717 non-null  float64\n",
      " 47  next_pymnt_d                1140 non-null   object \n",
      " 48  last_credit_pull_d          39715 non-null  object \n",
      " 49  collections_12_mths_ex_med  39661 non-null  float64\n",
      " 50  policy_code                 39717 non-null  int64  \n",
      " 51  application_type            39717 non-null  object \n",
      " 52  acc_now_delinq              39717 non-null  int64  \n",
      " 53  chargeoff_within_12_mths    39661 non-null  float64\n",
      " 54  delinq_amnt                 39717 non-null  int64  \n",
      " 55  pub_rec_bankruptcies        39020 non-null  float64\n",
      " 56  tax_liens                   39678 non-null  float64\n",
      "dtypes: float64(20), int64(13), object(24)\n",
      "memory usage: 17.3+ MB\n"
     ]
    }
   ],
   "source": [
    "#Getting the information about load data set\n",
    "loan.info()"
   ]
  },
  {
   "cell_type": "markdown",
   "id": "d82c66db",
   "metadata": {},
   "source": [
    "#### Dropping the features having same constant value through out.\n",
    "Features with constant values through out\n",
    "1. delinq_amnt\n",
    "2. acc_now_delinq\n",
    "3. pymnt_plan"
   ]
  },
  {
   "cell_type": "code",
   "execution_count": 488,
   "id": "ea983b75",
   "metadata": {},
   "outputs": [],
   "source": [
    "loan.drop(columns =[\"delinq_amnt\",\"acc_now_delinq\",\"pymnt_plan\"], axis=1, inplace=True)"
   ]
  },
  {
   "cell_type": "markdown",
   "id": "90b78164",
   "metadata": {},
   "source": [
    "#### Dropping the identity columns having unique values\n",
    "1. id\n",
    "2. member_id"
   ]
  },
  {
   "cell_type": "code",
   "execution_count": 489,
   "id": "3eae5106",
   "metadata": {},
   "outputs": [],
   "source": [
    "loan.drop(columns =[\"id\",\"member_id\"], axis=1, inplace=True)"
   ]
  },
  {
   "attachments": {},
   "cell_type": "markdown",
   "id": "08336870",
   "metadata": {},
   "source": [
    "#### Identifying customer behaviour variable and removal\n",
    "Customer behavior variables are not available at the time of loan application, and thus they cannot be used as predictors for credit approval. So following customer behavior variable can be deleted\n",
    "1. delinq_2yrs\n",
    "2. earliest_cr_line\n",
    "3. inq_last_6mths\n",
    "4. open_acc\n",
    "5. pub_rec\n",
    "6. revol_bal\n",
    "7. revol_util\n",
    "8. total_acc\n",
    "9. out_prncp\n",
    "10. out_prncp_inv\n",
    "11. total_pymnt\n",
    "12. total_pymnt_inv\n",
    "13. total_rec_prncp\n",
    "14. total_rec_int\n",
    "15. total_rec_late_fee\n",
    "16. recoveries\n",
    "17. collection_recovery_fee\n",
    "18. last_pymnt_d\n",
    "19. last_pymnt_amnt\n",
    "20. last_credit_pull_d\n",
    "21. application_type"
   ]
  },
  {
   "cell_type": "code",
   "execution_count": 490,
   "id": "1aabf5c8",
   "metadata": {},
   "outputs": [],
   "source": [
    "loan.drop(columns =[\"delinq_2yrs\",\"earliest_cr_line\",\"inq_last_6mths\",\"open_acc\",\"pub_rec\",\"revol_bal\",\"revol_util\",\"total_acc\",\"out_prncp\",\"out_prncp_inv\",\"total_pymnt\",\"total_pymnt_inv\",\"total_rec_prncp\",\"total_rec_int\",\"total_rec_late_fee\",\"recoveries\",\"collection_recovery_fee\",\"last_pymnt_d\",\"last_pymnt_amnt\",\"last_credit_pull_d\",\"application_type\"], axis=1, inplace=True)"
   ]
  },
  {
   "cell_type": "code",
   "execution_count": 491,
   "id": "767cd4f4",
   "metadata": {},
   "outputs": [
    {
     "data": {
      "text/plain": [
       "(39717, 31)"
      ]
     },
     "execution_count": 491,
     "metadata": {},
     "output_type": "execute_result"
    }
   ],
   "source": [
    "#Checking the number of available features now\n",
    "loan.shape"
   ]
  },
  {
   "cell_type": "code",
   "execution_count": 492,
   "id": "4c85ee5d",
   "metadata": {},
   "outputs": [
    {
     "name": "stdout",
     "output_type": "stream",
     "text": [
      "<class 'pandas.core.frame.DataFrame'>\n",
      "RangeIndex: 39717 entries, 0 to 39716\n",
      "Data columns (total 31 columns):\n",
      " #   Column                      Non-Null Count  Dtype  \n",
      "---  ------                      --------------  -----  \n",
      " 0   loan_amnt                   39717 non-null  int64  \n",
      " 1   funded_amnt                 39717 non-null  int64  \n",
      " 2   funded_amnt_inv             39717 non-null  float64\n",
      " 3   term                        39717 non-null  object \n",
      " 4   int_rate                    39717 non-null  object \n",
      " 5   installment                 39717 non-null  float64\n",
      " 6   grade                       39717 non-null  object \n",
      " 7   sub_grade                   39717 non-null  object \n",
      " 8   emp_title                   37258 non-null  object \n",
      " 9   emp_length                  38642 non-null  object \n",
      " 10  home_ownership              39717 non-null  object \n",
      " 11  annual_inc                  39717 non-null  float64\n",
      " 12  verification_status         39717 non-null  object \n",
      " 13  issue_d                     39717 non-null  object \n",
      " 14  loan_status                 39717 non-null  object \n",
      " 15  url                         39717 non-null  object \n",
      " 16  desc                        26777 non-null  object \n",
      " 17  purpose                     39717 non-null  object \n",
      " 18  title                       39706 non-null  object \n",
      " 19  zip_code                    39717 non-null  object \n",
      " 20  addr_state                  39717 non-null  object \n",
      " 21  dti                         39717 non-null  float64\n",
      " 22  mths_since_last_delinq      14035 non-null  float64\n",
      " 23  mths_since_last_record      2786 non-null   float64\n",
      " 24  initial_list_status         39717 non-null  object \n",
      " 25  next_pymnt_d                1140 non-null   object \n",
      " 26  collections_12_mths_ex_med  39661 non-null  float64\n",
      " 27  policy_code                 39717 non-null  int64  \n",
      " 28  chargeoff_within_12_mths    39661 non-null  float64\n",
      " 29  pub_rec_bankruptcies        39020 non-null  float64\n",
      " 30  tax_liens                   39678 non-null  float64\n",
      "dtypes: float64(10), int64(3), object(18)\n",
      "memory usage: 9.4+ MB\n"
     ]
    }
   ],
   "source": [
    "loan.info()"
   ]
  },
  {
   "cell_type": "markdown",
   "id": "72d68a4a",
   "metadata": {},
   "source": [
    "### Data Analysis"
   ]
  },
  {
   "cell_type": "markdown",
   "id": "e87bb9af",
   "metadata": {},
   "source": [
    "Since loan status \"current\" is ambiguious as loan defaulter point of view ( this loan might be dafaulter in future ) \n",
    "and analysis is being done to understand the driving factors (or driver variables) behind loan default, we can consider only \"Fully Paid\" and \"Charged Off\" loans."
   ]
  },
  {
   "cell_type": "code",
   "execution_count": 493,
   "id": "356edaf0",
   "metadata": {},
   "outputs": [],
   "source": [
    "loan = loan[~(loan.loan_status == \"Current\")]"
   ]
  },
  {
   "cell_type": "code",
   "execution_count": 494,
   "id": "48395090",
   "metadata": {},
   "outputs": [
    {
     "data": {
      "text/plain": [
       "(38577, 31)"
      ]
     },
     "execution_count": 494,
     "metadata": {},
     "output_type": "execute_result"
    }
   ],
   "source": [
    "loan.shape"
   ]
  },
  {
   "cell_type": "code",
   "execution_count": 495,
   "id": "77a14053",
   "metadata": {},
   "outputs": [
    {
     "data": {
      "text/html": [
       "<div>\n",
       "<style scoped>\n",
       "    .dataframe tbody tr th:only-of-type {\n",
       "        vertical-align: middle;\n",
       "    }\n",
       "\n",
       "    .dataframe tbody tr th {\n",
       "        vertical-align: top;\n",
       "    }\n",
       "\n",
       "    .dataframe thead th {\n",
       "        text-align: right;\n",
       "    }\n",
       "</style>\n",
       "<table border=\"1\" class=\"dataframe\">\n",
       "  <thead>\n",
       "    <tr style=\"text-align: right;\">\n",
       "      <th></th>\n",
       "      <th>loan_amnt</th>\n",
       "      <th>funded_amnt</th>\n",
       "      <th>funded_amnt_inv</th>\n",
       "      <th>installment</th>\n",
       "      <th>annual_inc</th>\n",
       "      <th>dti</th>\n",
       "      <th>mths_since_last_delinq</th>\n",
       "      <th>mths_since_last_record</th>\n",
       "      <th>collections_12_mths_ex_med</th>\n",
       "      <th>policy_code</th>\n",
       "      <th>chargeoff_within_12_mths</th>\n",
       "      <th>pub_rec_bankruptcies</th>\n",
       "      <th>tax_liens</th>\n",
       "    </tr>\n",
       "  </thead>\n",
       "  <tbody>\n",
       "    <tr>\n",
       "      <th>count</th>\n",
       "      <td>38577.000000</td>\n",
       "      <td>38577.000000</td>\n",
       "      <td>38577.000000</td>\n",
       "      <td>38577.000000</td>\n",
       "      <td>3.857700e+04</td>\n",
       "      <td>38577.000000</td>\n",
       "      <td>13672.000000</td>\n",
       "      <td>2740.000000</td>\n",
       "      <td>38521.0</td>\n",
       "      <td>38577.0</td>\n",
       "      <td>38521.0</td>\n",
       "      <td>37880.000000</td>\n",
       "      <td>38538.0</td>\n",
       "    </tr>\n",
       "    <tr>\n",
       "      <th>mean</th>\n",
       "      <td>11047.025430</td>\n",
       "      <td>10784.058506</td>\n",
       "      <td>10222.481123</td>\n",
       "      <td>322.466318</td>\n",
       "      <td>6.877797e+04</td>\n",
       "      <td>13.272727</td>\n",
       "      <td>35.882534</td>\n",
       "      <td>69.260949</td>\n",
       "      <td>0.0</td>\n",
       "      <td>1.0</td>\n",
       "      <td>0.0</td>\n",
       "      <td>0.043479</td>\n",
       "      <td>0.0</td>\n",
       "    </tr>\n",
       "    <tr>\n",
       "      <th>std</th>\n",
       "      <td>7348.441646</td>\n",
       "      <td>7090.306027</td>\n",
       "      <td>7022.720644</td>\n",
       "      <td>208.639215</td>\n",
       "      <td>6.421868e+04</td>\n",
       "      <td>6.673044</td>\n",
       "      <td>22.028093</td>\n",
       "      <td>43.987761</td>\n",
       "      <td>0.0</td>\n",
       "      <td>0.0</td>\n",
       "      <td>0.0</td>\n",
       "      <td>0.204583</td>\n",
       "      <td>0.0</td>\n",
       "    </tr>\n",
       "    <tr>\n",
       "      <th>min</th>\n",
       "      <td>500.000000</td>\n",
       "      <td>500.000000</td>\n",
       "      <td>0.000000</td>\n",
       "      <td>15.690000</td>\n",
       "      <td>4.000000e+03</td>\n",
       "      <td>0.000000</td>\n",
       "      <td>0.000000</td>\n",
       "      <td>0.000000</td>\n",
       "      <td>0.0</td>\n",
       "      <td>1.0</td>\n",
       "      <td>0.0</td>\n",
       "      <td>0.000000</td>\n",
       "      <td>0.0</td>\n",
       "    </tr>\n",
       "    <tr>\n",
       "      <th>25%</th>\n",
       "      <td>5300.000000</td>\n",
       "      <td>5200.000000</td>\n",
       "      <td>5000.000000</td>\n",
       "      <td>165.740000</td>\n",
       "      <td>4.000000e+04</td>\n",
       "      <td>8.130000</td>\n",
       "      <td>18.000000</td>\n",
       "      <td>19.750000</td>\n",
       "      <td>0.0</td>\n",
       "      <td>1.0</td>\n",
       "      <td>0.0</td>\n",
       "      <td>0.000000</td>\n",
       "      <td>0.0</td>\n",
       "    </tr>\n",
       "    <tr>\n",
       "      <th>50%</th>\n",
       "      <td>9600.000000</td>\n",
       "      <td>9550.000000</td>\n",
       "      <td>8733.440000</td>\n",
       "      <td>277.860000</td>\n",
       "      <td>5.886800e+04</td>\n",
       "      <td>13.370000</td>\n",
       "      <td>34.000000</td>\n",
       "      <td>90.000000</td>\n",
       "      <td>0.0</td>\n",
       "      <td>1.0</td>\n",
       "      <td>0.0</td>\n",
       "      <td>0.000000</td>\n",
       "      <td>0.0</td>\n",
       "    </tr>\n",
       "    <tr>\n",
       "      <th>75%</th>\n",
       "      <td>15000.000000</td>\n",
       "      <td>15000.000000</td>\n",
       "      <td>14000.000000</td>\n",
       "      <td>425.550000</td>\n",
       "      <td>8.200000e+04</td>\n",
       "      <td>18.560000</td>\n",
       "      <td>52.000000</td>\n",
       "      <td>104.000000</td>\n",
       "      <td>0.0</td>\n",
       "      <td>1.0</td>\n",
       "      <td>0.0</td>\n",
       "      <td>0.000000</td>\n",
       "      <td>0.0</td>\n",
       "    </tr>\n",
       "    <tr>\n",
       "      <th>max</th>\n",
       "      <td>35000.000000</td>\n",
       "      <td>35000.000000</td>\n",
       "      <td>35000.000000</td>\n",
       "      <td>1305.190000</td>\n",
       "      <td>6.000000e+06</td>\n",
       "      <td>29.990000</td>\n",
       "      <td>120.000000</td>\n",
       "      <td>129.000000</td>\n",
       "      <td>0.0</td>\n",
       "      <td>1.0</td>\n",
       "      <td>0.0</td>\n",
       "      <td>2.000000</td>\n",
       "      <td>0.0</td>\n",
       "    </tr>\n",
       "  </tbody>\n",
       "</table>\n",
       "</div>"
      ],
      "text/plain": [
       "          loan_amnt   funded_amnt  funded_amnt_inv   installment  \\\n",
       "count  38577.000000  38577.000000     38577.000000  38577.000000   \n",
       "mean   11047.025430  10784.058506     10222.481123    322.466318   \n",
       "std     7348.441646   7090.306027      7022.720644    208.639215   \n",
       "min      500.000000    500.000000         0.000000     15.690000   \n",
       "25%     5300.000000   5200.000000      5000.000000    165.740000   \n",
       "50%     9600.000000   9550.000000      8733.440000    277.860000   \n",
       "75%    15000.000000  15000.000000     14000.000000    425.550000   \n",
       "max    35000.000000  35000.000000     35000.000000   1305.190000   \n",
       "\n",
       "         annual_inc           dti  mths_since_last_delinq  \\\n",
       "count  3.857700e+04  38577.000000            13672.000000   \n",
       "mean   6.877797e+04     13.272727               35.882534   \n",
       "std    6.421868e+04      6.673044               22.028093   \n",
       "min    4.000000e+03      0.000000                0.000000   \n",
       "25%    4.000000e+04      8.130000               18.000000   \n",
       "50%    5.886800e+04     13.370000               34.000000   \n",
       "75%    8.200000e+04     18.560000               52.000000   \n",
       "max    6.000000e+06     29.990000              120.000000   \n",
       "\n",
       "       mths_since_last_record  collections_12_mths_ex_med  policy_code  \\\n",
       "count             2740.000000                     38521.0      38577.0   \n",
       "mean                69.260949                         0.0          1.0   \n",
       "std                 43.987761                         0.0          0.0   \n",
       "min                  0.000000                         0.0          1.0   \n",
       "25%                 19.750000                         0.0          1.0   \n",
       "50%                 90.000000                         0.0          1.0   \n",
       "75%                104.000000                         0.0          1.0   \n",
       "max                129.000000                         0.0          1.0   \n",
       "\n",
       "       chargeoff_within_12_mths  pub_rec_bankruptcies  tax_liens  \n",
       "count                   38521.0          37880.000000    38538.0  \n",
       "mean                        0.0              0.043479        0.0  \n",
       "std                         0.0              0.204583        0.0  \n",
       "min                         0.0              0.000000        0.0  \n",
       "25%                         0.0              0.000000        0.0  \n",
       "50%                         0.0              0.000000        0.0  \n",
       "75%                         0.0              0.000000        0.0  \n",
       "max                         0.0              2.000000        0.0  "
      ]
     },
     "execution_count": 495,
     "metadata": {},
     "output_type": "execute_result"
    }
   ],
   "source": [
    "loan.describe()"
   ]
  },
  {
   "cell_type": "markdown",
   "id": "dca45de4",
   "metadata": {},
   "source": [
    "#### Univariate analysis :"
   ]
  },
  {
   "cell_type": "markdown",
   "id": "ae91fe5a",
   "metadata": {},
   "source": [
    "##### Analysing Annual Income\n",
    "1. Above loan.describe() data indicates there is some outliers. \n",
    "2. We can create bin of annual income for further analysis"
   ]
  },
  {
   "cell_type": "code",
   "execution_count": 496,
   "id": "85d3520a",
   "metadata": {},
   "outputs": [
    {
     "data": {
      "image/png": "[encoded data removed]",
      "text/plain": [
       "<Figure size 1080x216 with 1 Axes>"
      ]
     },
     "metadata": {
      "needs_background": "light"
     },
     "output_type": "display_data"
    }
   ],
   "source": [
    "#Analysing and getting rid of outliers\n",
    "plt.figure(figsize=(15,3))\n",
    "sns.boxplot(loan.annual_inc)\n",
    "plt.title(\"Distribution of Annual income\", fontsize=15)\n",
    "plt.xlabel(\"Annual Income\", fontsize=12)\n",
    "plt.show()"
   ]
  },
  {
   "cell_type": "code",
   "execution_count": 497,
   "id": "d88a6b83",
   "metadata": {},
   "outputs": [
    {
     "data": {
      "text/plain": [
       "0.90    115000.0\n",
       "0.92    122000.0\n",
       "0.93    127500.0\n",
       "0.94    134000.0\n",
       "0.95    140004.0\n",
       "0.96    150000.0\n",
       "0.97    165000.0\n",
       "0.99    234144.0\n",
       "Name: annual_inc, dtype: float64"
      ]
     },
     "execution_count": 497,
     "metadata": {},
     "output_type": "execute_result"
    }
   ],
   "source": [
    "# Checking quartile information for annual income to see outliers\n",
    "loan.annual_inc.quantile([0.90,0.92,0.93,0.94,0.95,0.96,0.97,0.99])"
   ]
  },
  {
   "cell_type": "markdown",
   "id": "236e0fc9",
   "metadata": {},
   "source": [
    "##### Observation \n",
    "From above quartile data, 0.93 percentile seems to be good. Let us use 0.93 percentile for cutoff of percentile data"
   ]
  },
  {
   "cell_type": "code",
   "execution_count": 498,
   "id": "72be1535",
   "metadata": {},
   "outputs": [],
   "source": [
    "loan = loan[(loan.annual_inc < loan.annual_inc.quantile(0.93))]"
   ]
  },
  {
   "cell_type": "code",
   "execution_count": 499,
   "id": "6b027b5f",
   "metadata": {},
   "outputs": [
    {
     "data": {
      "image/png": "[encoded data removed]",
      "text/plain": [
       "<Figure size 1080x216 with 1 Axes>"
      ]
     },
     "metadata": {
      "needs_background": "light"
     },
     "output_type": "display_data"
    }
   ],
   "source": [
    "# Checking after removing outliers\n",
    "plt.figure(figsize=(15,3))\n",
    "sns.boxplot(loan.annual_inc)\n",
    "plt.title(\"Distribution of Annual income\", fontsize=15)\n",
    "plt.xlabel(\"Annual Income\", fontsize=12)\n",
    "plt.show()"
   ]
  },
  {
   "cell_type": "code",
   "execution_count": 500,
   "id": "1b8d990c",
   "metadata": {},
   "outputs": [
    {
     "data": {
      "text/html": [
       "<div>\n",
       "<style scoped>\n",
       "    .dataframe tbody tr th:only-of-type {\n",
       "        vertical-align: middle;\n",
       "    }\n",
       "\n",
       "    .dataframe tbody tr th {\n",
       "        vertical-align: top;\n",
       "    }\n",
       "\n",
       "    .dataframe thead th {\n",
       "        text-align: right;\n",
       "    }\n",
       "</style>\n",
       "<table border=\"1\" class=\"dataframe\">\n",
       "  <thead>\n",
       "    <tr style=\"text-align: right;\">\n",
       "      <th></th>\n",
       "      <th>loan_amnt</th>\n",
       "      <th>funded_amnt</th>\n",
       "      <th>funded_amnt_inv</th>\n",
       "      <th>term</th>\n",
       "      <th>int_rate</th>\n",
       "      <th>installment</th>\n",
       "      <th>grade</th>\n",
       "      <th>sub_grade</th>\n",
       "      <th>emp_title</th>\n",
       "      <th>emp_length</th>\n",
       "      <th>...</th>\n",
       "      <th>mths_since_last_delinq</th>\n",
       "      <th>mths_since_last_record</th>\n",
       "      <th>initial_list_status</th>\n",
       "      <th>next_pymnt_d</th>\n",
       "      <th>collections_12_mths_ex_med</th>\n",
       "      <th>policy_code</th>\n",
       "      <th>chargeoff_within_12_mths</th>\n",
       "      <th>pub_rec_bankruptcies</th>\n",
       "      <th>tax_liens</th>\n",
       "      <th>income_category</th>\n",
       "    </tr>\n",
       "  </thead>\n",
       "  <tbody>\n",
       "    <tr>\n",
       "      <th>0</th>\n",
       "      <td>5000</td>\n",
       "      <td>5000</td>\n",
       "      <td>4975.0</td>\n",
       "      <td>36 months</td>\n",
       "      <td>10.65%</td>\n",
       "      <td>162.87</td>\n",
       "      <td>B</td>\n",
       "      <td>B2</td>\n",
       "      <td>NaN</td>\n",
       "      <td>10+ years</td>\n",
       "      <td>...</td>\n",
       "      <td>NaN</td>\n",
       "      <td>NaN</td>\n",
       "      <td>f</td>\n",
       "      <td>NaN</td>\n",
       "      <td>0.0</td>\n",
       "      <td>1</td>\n",
       "      <td>0.0</td>\n",
       "      <td>0.0</td>\n",
       "      <td>0.0</td>\n",
       "      <td>Low</td>\n",
       "    </tr>\n",
       "    <tr>\n",
       "      <th>1</th>\n",
       "      <td>2500</td>\n",
       "      <td>2500</td>\n",
       "      <td>2500.0</td>\n",
       "      <td>60 months</td>\n",
       "      <td>15.27%</td>\n",
       "      <td>59.83</td>\n",
       "      <td>C</td>\n",
       "      <td>C4</td>\n",
       "      <td>Ryder</td>\n",
       "      <td>&lt; 1 year</td>\n",
       "      <td>...</td>\n",
       "      <td>NaN</td>\n",
       "      <td>NaN</td>\n",
       "      <td>f</td>\n",
       "      <td>NaN</td>\n",
       "      <td>0.0</td>\n",
       "      <td>1</td>\n",
       "      <td>0.0</td>\n",
       "      <td>0.0</td>\n",
       "      <td>0.0</td>\n",
       "      <td>Low</td>\n",
       "    </tr>\n",
       "    <tr>\n",
       "      <th>2</th>\n",
       "      <td>2400</td>\n",
       "      <td>2400</td>\n",
       "      <td>2400.0</td>\n",
       "      <td>36 months</td>\n",
       "      <td>15.96%</td>\n",
       "      <td>84.33</td>\n",
       "      <td>C</td>\n",
       "      <td>C5</td>\n",
       "      <td>NaN</td>\n",
       "      <td>10+ years</td>\n",
       "      <td>...</td>\n",
       "      <td>NaN</td>\n",
       "      <td>NaN</td>\n",
       "      <td>f</td>\n",
       "      <td>NaN</td>\n",
       "      <td>0.0</td>\n",
       "      <td>1</td>\n",
       "      <td>0.0</td>\n",
       "      <td>0.0</td>\n",
       "      <td>0.0</td>\n",
       "      <td>Low</td>\n",
       "    </tr>\n",
       "    <tr>\n",
       "      <th>3</th>\n",
       "      <td>10000</td>\n",
       "      <td>10000</td>\n",
       "      <td>10000.0</td>\n",
       "      <td>36 months</td>\n",
       "      <td>13.49%</td>\n",
       "      <td>339.31</td>\n",
       "      <td>C</td>\n",
       "      <td>C1</td>\n",
       "      <td>AIR RESOURCES BOARD</td>\n",
       "      <td>10+ years</td>\n",
       "      <td>...</td>\n",
       "      <td>35.0</td>\n",
       "      <td>NaN</td>\n",
       "      <td>f</td>\n",
       "      <td>NaN</td>\n",
       "      <td>0.0</td>\n",
       "      <td>1</td>\n",
       "      <td>0.0</td>\n",
       "      <td>0.0</td>\n",
       "      <td>0.0</td>\n",
       "      <td>Medium</td>\n",
       "    </tr>\n",
       "    <tr>\n",
       "      <th>5</th>\n",
       "      <td>5000</td>\n",
       "      <td>5000</td>\n",
       "      <td>5000.0</td>\n",
       "      <td>36 months</td>\n",
       "      <td>7.90%</td>\n",
       "      <td>156.46</td>\n",
       "      <td>A</td>\n",
       "      <td>A4</td>\n",
       "      <td>Veolia Transportaton</td>\n",
       "      <td>3 years</td>\n",
       "      <td>...</td>\n",
       "      <td>NaN</td>\n",
       "      <td>NaN</td>\n",
       "      <td>f</td>\n",
       "      <td>NaN</td>\n",
       "      <td>0.0</td>\n",
       "      <td>1</td>\n",
       "      <td>0.0</td>\n",
       "      <td>0.0</td>\n",
       "      <td>0.0</td>\n",
       "      <td>Low</td>\n",
       "    </tr>\n",
       "  </tbody>\n",
       "</table>\n",
       "<p>5 rows × 32 columns</p>\n",
       "</div>"
      ],
      "text/plain": [
       "   loan_amnt  funded_amnt  funded_amnt_inv        term int_rate  installment  \\\n",
       "0       5000         5000           4975.0   36 months   10.65%       162.87   \n",
       "1       2500         2500           2500.0   60 months   15.27%        59.83   \n",
       "2       2400         2400           2400.0   36 months   15.96%        84.33   \n",
       "3      10000        10000          10000.0   36 months   13.49%       339.31   \n",
       "5       5000         5000           5000.0   36 months    7.90%       156.46   \n",
       "\n",
       "  grade sub_grade             emp_title emp_length  ...  \\\n",
       "0     B        B2                   NaN  10+ years  ...   \n",
       "1     C        C4                 Ryder   < 1 year  ...   \n",
       "2     C        C5                   NaN  10+ years  ...   \n",
       "3     C        C1   AIR RESOURCES BOARD  10+ years  ...   \n",
       "5     A        A4  Veolia Transportaton    3 years  ...   \n",
       "\n",
       "  mths_since_last_delinq  mths_since_last_record initial_list_status  \\\n",
       "0                    NaN                     NaN                   f   \n",
       "1                    NaN                     NaN                   f   \n",
       "2                    NaN                     NaN                   f   \n",
       "3                   35.0                     NaN                   f   \n",
       "5                    NaN                     NaN                   f   \n",
       "\n",
       "  next_pymnt_d collections_12_mths_ex_med policy_code  \\\n",
       "0          NaN                        0.0           1   \n",
       "1          NaN                        0.0           1   \n",
       "2          NaN                        0.0           1   \n",
       "3          NaN                        0.0           1   \n",
       "5          NaN                        0.0           1   \n",
       "\n",
       "  chargeoff_within_12_mths pub_rec_bankruptcies tax_liens income_category  \n",
       "0                      0.0                  0.0       0.0             Low  \n",
       "1                      0.0                  0.0       0.0             Low  \n",
       "2                      0.0                  0.0       0.0             Low  \n",
       "3                      0.0                  0.0       0.0          Medium  \n",
       "5                      0.0                  0.0       0.0             Low  \n",
       "\n",
       "[5 rows x 32 columns]"
      ]
     },
     "execution_count": 500,
     "metadata": {},
     "output_type": "execute_result"
    }
   ],
   "source": [
    "income_slab = (1,40000, 80000,130000)\n",
    "category =[\"Low\", \"Medium\", \"High\"]\n",
    "loan[\"income_category\"] = pd.cut(loan.annual_inc, income_slab, labels = category)\n",
    "loan.head()"
   ]
  },
  {
   "cell_type": "code",
   "execution_count": 501,
   "id": "c44f9f06",
   "metadata": {},
   "outputs": [
    {
     "data": {
      "image/png": "[encoded data removed]",
      "text/plain": [
       "<Figure size 1080x288 with 1 Axes>"
      ]
     },
     "metadata": {
      "needs_background": "light"
     },
     "output_type": "display_data"
    }
   ],
   "source": [
    "plt.figure(figsize=(15,4))\n",
    "loan.income_category.value_counts().plot.bar()\n",
    "plt.title(\"Loan applied from different income category\", fontsize=15)\n",
    "plt.xlabel(\"Income groups\",fontsize=12)\n",
    "plt.ylabel(\"Count\",fontsize=12)\n",
    "plt.show()"
   ]
  },
  {
   "cell_type": "code",
   "execution_count": 502,
   "id": "daa1b6b2",
   "metadata": {},
   "outputs": [
    {
     "data": {
      "image/png": "[encoded data removed]",
      "text/plain": [
       "<Figure size 1080x288 with 1 Axes>"
      ]
     },
     "metadata": {
      "needs_background": "light"
     },
     "output_type": "display_data"
    }
   ],
   "source": [
    "plt.figure(figsize=(15,4))\n",
    "loan[loan.loan_status == \"Charged Off\"].income_category.value_counts().plot.bar()\n",
    "plt.title(\"Charged off loan for different income category\",fontsize=15)\n",
    "plt.xlabel(\"Income groups\",fontsize=12)\n",
    "plt.ylabel(\"Count\",fontsize=12)\n",
    "plt.show()"
   ]
  },
  {
   "cell_type": "markdown",
   "id": "5ce6d528",
   "metadata": {},
   "source": [
    "#### Observation \n",
    "1. Midium annual income group ( 40000 to 80000 USD ) has taken maximum loan and medium income group also become maximum defaulter.\n",
    "2. It seems the medium income group tends to be more defaulter"
   ]
  },
  {
   "cell_type": "markdown",
   "id": "874e176f",
   "metadata": {},
   "source": [
    "##### Analyzing loan amount"
   ]
  },
  {
   "cell_type": "code",
   "execution_count": 503,
   "id": "c8f7a935",
   "metadata": {},
   "outputs": [
    {
     "data": {
      "image/png": "[encoded data removed]",
      "text/plain": [
       "<Figure size 1080x216 with 1 Axes>"
      ]
     },
     "metadata": {
      "needs_background": "light"
     },
     "output_type": "display_data"
    }
   ],
   "source": [
    "# Checking outliers\n",
    "plt.figure(figsize=(15,3))\n",
    "sns.boxplot(loan.loan_amnt)\n",
    "plt.title(\"Distribution of loan amount applied for\", fontsize=15)\n",
    "plt.xlabel(\"Applied loan amount\", fontsize=12)\n",
    "plt.show()"
   ]
  },
  {
   "cell_type": "markdown",
   "id": "1f5487fa",
   "metadata": {},
   "source": [
    "There are outliers but not distnictive enough. So no outlier treatment is necessary for now."
   ]
  },
  {
   "cell_type": "code",
   "execution_count": 504,
   "id": "d766d80d",
   "metadata": {},
   "outputs": [
    {
     "data": {
      "text/html": [
       "<div>\n",
       "<style scoped>\n",
       "    .dataframe tbody tr th:only-of-type {\n",
       "        vertical-align: middle;\n",
       "    }\n",
       "\n",
       "    .dataframe tbody tr th {\n",
       "        vertical-align: top;\n",
       "    }\n",
       "\n",
       "    .dataframe thead th {\n",
       "        text-align: right;\n",
       "    }\n",
       "</style>\n",
       "<table border=\"1\" class=\"dataframe\">\n",
       "  <thead>\n",
       "    <tr style=\"text-align: right;\">\n",
       "      <th></th>\n",
       "      <th>loan_amnt</th>\n",
       "      <th>funded_amnt</th>\n",
       "      <th>funded_amnt_inv</th>\n",
       "      <th>term</th>\n",
       "      <th>int_rate</th>\n",
       "      <th>installment</th>\n",
       "      <th>grade</th>\n",
       "      <th>sub_grade</th>\n",
       "      <th>emp_title</th>\n",
       "      <th>emp_length</th>\n",
       "      <th>...</th>\n",
       "      <th>mths_since_last_record</th>\n",
       "      <th>initial_list_status</th>\n",
       "      <th>next_pymnt_d</th>\n",
       "      <th>collections_12_mths_ex_med</th>\n",
       "      <th>policy_code</th>\n",
       "      <th>chargeoff_within_12_mths</th>\n",
       "      <th>pub_rec_bankruptcies</th>\n",
       "      <th>tax_liens</th>\n",
       "      <th>income_category</th>\n",
       "      <th>loan_category</th>\n",
       "    </tr>\n",
       "  </thead>\n",
       "  <tbody>\n",
       "    <tr>\n",
       "      <th>0</th>\n",
       "      <td>5000</td>\n",
       "      <td>5000</td>\n",
       "      <td>4975.0</td>\n",
       "      <td>36 months</td>\n",
       "      <td>10.65%</td>\n",
       "      <td>162.87</td>\n",
       "      <td>B</td>\n",
       "      <td>B2</td>\n",
       "      <td>NaN</td>\n",
       "      <td>10+ years</td>\n",
       "      <td>...</td>\n",
       "      <td>NaN</td>\n",
       "      <td>f</td>\n",
       "      <td>NaN</td>\n",
       "      <td>0.0</td>\n",
       "      <td>1</td>\n",
       "      <td>0.0</td>\n",
       "      <td>0.0</td>\n",
       "      <td>0.0</td>\n",
       "      <td>Low</td>\n",
       "      <td>5K</td>\n",
       "    </tr>\n",
       "    <tr>\n",
       "      <th>1</th>\n",
       "      <td>2500</td>\n",
       "      <td>2500</td>\n",
       "      <td>2500.0</td>\n",
       "      <td>60 months</td>\n",
       "      <td>15.27%</td>\n",
       "      <td>59.83</td>\n",
       "      <td>C</td>\n",
       "      <td>C4</td>\n",
       "      <td>Ryder</td>\n",
       "      <td>&lt; 1 year</td>\n",
       "      <td>...</td>\n",
       "      <td>NaN</td>\n",
       "      <td>f</td>\n",
       "      <td>NaN</td>\n",
       "      <td>0.0</td>\n",
       "      <td>1</td>\n",
       "      <td>0.0</td>\n",
       "      <td>0.0</td>\n",
       "      <td>0.0</td>\n",
       "      <td>Low</td>\n",
       "      <td>5K</td>\n",
       "    </tr>\n",
       "    <tr>\n",
       "      <th>2</th>\n",
       "      <td>2400</td>\n",
       "      <td>2400</td>\n",
       "      <td>2400.0</td>\n",
       "      <td>36 months</td>\n",
       "      <td>15.96%</td>\n",
       "      <td>84.33</td>\n",
       "      <td>C</td>\n",
       "      <td>C5</td>\n",
       "      <td>NaN</td>\n",
       "      <td>10+ years</td>\n",
       "      <td>...</td>\n",
       "      <td>NaN</td>\n",
       "      <td>f</td>\n",
       "      <td>NaN</td>\n",
       "      <td>0.0</td>\n",
       "      <td>1</td>\n",
       "      <td>0.0</td>\n",
       "      <td>0.0</td>\n",
       "      <td>0.0</td>\n",
       "      <td>Low</td>\n",
       "      <td>5K</td>\n",
       "    </tr>\n",
       "    <tr>\n",
       "      <th>3</th>\n",
       "      <td>10000</td>\n",
       "      <td>10000</td>\n",
       "      <td>10000.0</td>\n",
       "      <td>36 months</td>\n",
       "      <td>13.49%</td>\n",
       "      <td>339.31</td>\n",
       "      <td>C</td>\n",
       "      <td>C1</td>\n",
       "      <td>AIR RESOURCES BOARD</td>\n",
       "      <td>10+ years</td>\n",
       "      <td>...</td>\n",
       "      <td>NaN</td>\n",
       "      <td>f</td>\n",
       "      <td>NaN</td>\n",
       "      <td>0.0</td>\n",
       "      <td>1</td>\n",
       "      <td>0.0</td>\n",
       "      <td>0.0</td>\n",
       "      <td>0.0</td>\n",
       "      <td>Medium</td>\n",
       "      <td>5k-15K</td>\n",
       "    </tr>\n",
       "    <tr>\n",
       "      <th>5</th>\n",
       "      <td>5000</td>\n",
       "      <td>5000</td>\n",
       "      <td>5000.0</td>\n",
       "      <td>36 months</td>\n",
       "      <td>7.90%</td>\n",
       "      <td>156.46</td>\n",
       "      <td>A</td>\n",
       "      <td>A4</td>\n",
       "      <td>Veolia Transportaton</td>\n",
       "      <td>3 years</td>\n",
       "      <td>...</td>\n",
       "      <td>NaN</td>\n",
       "      <td>f</td>\n",
       "      <td>NaN</td>\n",
       "      <td>0.0</td>\n",
       "      <td>1</td>\n",
       "      <td>0.0</td>\n",
       "      <td>0.0</td>\n",
       "      <td>0.0</td>\n",
       "      <td>Low</td>\n",
       "      <td>5K</td>\n",
       "    </tr>\n",
       "  </tbody>\n",
       "</table>\n",
       "<p>5 rows × 33 columns</p>\n",
       "</div>"
      ],
      "text/plain": [
       "   loan_amnt  funded_amnt  funded_amnt_inv        term int_rate  installment  \\\n",
       "0       5000         5000           4975.0   36 months   10.65%       162.87   \n",
       "1       2500         2500           2500.0   60 months   15.27%        59.83   \n",
       "2       2400         2400           2400.0   36 months   15.96%        84.33   \n",
       "3      10000        10000          10000.0   36 months   13.49%       339.31   \n",
       "5       5000         5000           5000.0   36 months    7.90%       156.46   \n",
       "\n",
       "  grade sub_grade             emp_title emp_length  ...  \\\n",
       "0     B        B2                   NaN  10+ years  ...   \n",
       "1     C        C4                 Ryder   < 1 year  ...   \n",
       "2     C        C5                   NaN  10+ years  ...   \n",
       "3     C        C1   AIR RESOURCES BOARD  10+ years  ...   \n",
       "5     A        A4  Veolia Transportaton    3 years  ...   \n",
       "\n",
       "  mths_since_last_record  initial_list_status next_pymnt_d  \\\n",
       "0                    NaN                    f          NaN   \n",
       "1                    NaN                    f          NaN   \n",
       "2                    NaN                    f          NaN   \n",
       "3                    NaN                    f          NaN   \n",
       "5                    NaN                    f          NaN   \n",
       "\n",
       "  collections_12_mths_ex_med policy_code chargeoff_within_12_mths  \\\n",
       "0                        0.0           1                      0.0   \n",
       "1                        0.0           1                      0.0   \n",
       "2                        0.0           1                      0.0   \n",
       "3                        0.0           1                      0.0   \n",
       "5                        0.0           1                      0.0   \n",
       "\n",
       "  pub_rec_bankruptcies tax_liens income_category loan_category  \n",
       "0                  0.0       0.0             Low            5K  \n",
       "1                  0.0       0.0             Low            5K  \n",
       "2                  0.0       0.0             Low            5K  \n",
       "3                  0.0       0.0          Medium        5k-15K  \n",
       "5                  0.0       0.0             Low            5K  \n",
       "\n",
       "[5 rows x 33 columns]"
      ]
     },
     "execution_count": 504,
     "metadata": {},
     "output_type": "execute_result"
    }
   ],
   "source": [
    "loan_slab = (1,5000, 15000,35000)\n",
    "category =[\"5K\", \"5k-15K\", \"15K-35K\"]\n",
    "loan[\"loan_category\"] = pd.cut(loan.loan_amnt, loan_slab, labels = category)\n",
    "loan.head()"
   ]
  },
  {
   "cell_type": "code",
   "execution_count": 505,
   "id": "13e1b29b",
   "metadata": {},
   "outputs": [
    {
     "data": {
      "image/png": "[encoded data removed]",
      "text/plain": [
       "<Figure size 1080x288 with 1 Axes>"
      ]
     },
     "metadata": {
      "needs_background": "light"
     },
     "output_type": "display_data"
    }
   ],
   "source": [
    "plt.figure(figsize=(15,4))\n",
    "loan.loan_category.value_counts().plot.bar()\n",
    "plt.title(\"Different loan amount groups\", fontsize=15)\n",
    "plt.xlabel(\"Loan amount groups\",fontsize=12)\n",
    "plt.ylabel(\"Count\",fontsize=12)\n",
    "plt.show()"
   ]
  },
  {
   "cell_type": "code",
   "execution_count": 506,
   "id": "fc26a314",
   "metadata": {},
   "outputs": [
    {
     "data": {
      "image/png": "[encoded data removed]",
      "text/plain": [
       "<Figure size 1080x288 with 1 Axes>"
      ]
     },
     "metadata": {
      "needs_background": "light"
     },
     "output_type": "display_data"
    }
   ],
   "source": [
    "plt.figure(figsize=(15,4))\n",
    "loan[loan.loan_status == \"Charged Off\"].loan_category.value_counts().plot.bar()\n",
    "plt.title(\"Different loan amount groups for Charged off loans\", fontsize=15)\n",
    "plt.xlabel(\"Loan amount groups\",fontsize=12)\n",
    "plt.ylabel(\"Count\",fontsize=12)\n",
    "plt.show()"
   ]
  },
  {
   "cell_type": "markdown",
   "id": "72b95051",
   "metadata": {},
   "source": [
    "#### Observations \n",
    "1. 5K to 15K is the loan amount range where most people applied and also get defaulted"
   ]
  },
  {
   "cell_type": "markdown",
   "id": "39f9a45c",
   "metadata": {},
   "source": [
    "##### Analyzing loan term"
   ]
  },
  {
   "cell_type": "code",
   "execution_count": 507,
   "id": "f9401ffd",
   "metadata": {},
   "outputs": [
    {
     "data": {
      "image/png": "[encoded data removed]",
      "text/plain": [
       "<Figure size 1080x288 with 1 Axes>"
      ]
     },
     "metadata": {
      "needs_background": "light"
     },
     "output_type": "display_data"
    }
   ],
   "source": [
    "plt.figure(figsize=(15,4))\n",
    "loan.term.value_counts().plot.bar()\n",
    "plt.title(\"Loan Term\", fontsize=15)\n",
    "plt.xlabel(\"loan terms in month\",fontsize=12)\n",
    "plt.ylabel(\"Count\",fontsize=12)\n",
    "plt.show()"
   ]
  },
  {
   "cell_type": "code",
   "execution_count": 508,
   "id": "7fbf35e1",
   "metadata": {},
   "outputs": [
    {
     "data": {
      "image/png": "[encoded data removed]",
      "text/plain": [
       "<Figure size 1080x288 with 1 Axes>"
      ]
     },
     "metadata": {
      "needs_background": "light"
     },
     "output_type": "display_data"
    }
   ],
   "source": [
    "plt.figure(figsize=(15,4))\n",
    "loan[loan.loan_status == \"Charged Off\"].term.value_counts().plot.bar()\n",
    "plt.title(\"Loan Term for Charged off loan\", fontsize=15)\n",
    "plt.xlabel(\"loan terms in month\",fontsize=12)\n",
    "plt.ylabel(\"Count\",fontsize=12)\n",
    "plt.show()"
   ]
  },
  {
   "cell_type": "markdown",
   "id": "9f8107e2",
   "metadata": {},
   "source": [
    "#### Observation\n",
    "1. Maximum loan applied for tenure 36 months and maximum defaulters too."
   ]
  },
  {
   "cell_type": "markdown",
   "id": "89988f30",
   "metadata": {},
   "source": [
    "##### Analyzing purpose of loan"
   ]
  },
  {
   "cell_type": "code",
   "execution_count": 509,
   "id": "f76f7620",
   "metadata": {},
   "outputs": [
    {
     "data": {
      "image/png": "[encoded data removed]",
      "text/plain": [
       "<Figure size 1080x288 with 1 Axes>"
      ]
     },
     "metadata": {
      "needs_background": "light"
     },
     "output_type": "display_data"
    }
   ],
   "source": [
    "# What is the purpose of the loan applied for\n",
    "plt.figure(figsize=(15,4))\n",
    "loan.purpose.value_counts().plot.bar()\n",
    "plt.title(\"Purpose of loan\", fontsize=15)\n",
    "plt.xlabel(\"Purpose\",fontsize=12)\n",
    "plt.ylabel(\"Count\",fontsize=12)\n",
    "plt.xticks(fontsize=12)\n",
    "plt.yticks(fontsize=12)\n",
    "plt.show()"
   ]
  },
  {
   "cell_type": "code",
   "execution_count": 510,
   "id": "c5597db9",
   "metadata": {},
   "outputs": [
    {
     "data": {
      "image/png": "[encoded data removed]",
      "text/plain": [
       "<Figure size 1080x288 with 1 Axes>"
      ]
     },
     "metadata": {
      "needs_background": "light"
     },
     "output_type": "display_data"
    }
   ],
   "source": [
    "# What is the purpose of the loan applied for\n",
    "plt.figure(figsize=(15,4))\n",
    "loan[loan.loan_status == \"Charged Off\"].purpose.value_counts().plot.bar()\n",
    "plt.title(\"Purpose of loan for Charged off loan\", fontsize=15)\n",
    "plt.xlabel(\"Purpose\",fontsize=12)\n",
    "plt.ylabel(\"Count\",fontsize=12)\n",
    "plt.xticks(fontsize=12)\n",
    "plt.yticks(fontsize=12)\n",
    "plt.show()"
   ]
  },
  {
   "cell_type": "markdown",
   "id": "bc0442e0",
   "metadata": {},
   "source": [
    "#### Observations\n",
    "1. Maximum loan taken for debt consolidation and maximum defaulter are there too"
   ]
  },
  {
   "cell_type": "markdown",
   "id": "4a57c56b",
   "metadata": {},
   "source": [
    "##### Analyzing debt to income feature"
   ]
  },
  {
   "cell_type": "code",
   "execution_count": 511,
   "id": "ecfe09d1",
   "metadata": {},
   "outputs": [
    {
     "data": {
      "text/html": [
       "<div>\n",
       "<style scoped>\n",
       "    .dataframe tbody tr th:only-of-type {\n",
       "        vertical-align: middle;\n",
       "    }\n",
       "\n",
       "    .dataframe tbody tr th {\n",
       "        vertical-align: top;\n",
       "    }\n",
       "\n",
       "    .dataframe thead th {\n",
       "        text-align: right;\n",
       "    }\n",
       "</style>\n",
       "<table border=\"1\" class=\"dataframe\">\n",
       "  <thead>\n",
       "    <tr style=\"text-align: right;\">\n",
       "      <th></th>\n",
       "      <th>loan_amnt</th>\n",
       "      <th>funded_amnt</th>\n",
       "      <th>funded_amnt_inv</th>\n",
       "      <th>term</th>\n",
       "      <th>int_rate</th>\n",
       "      <th>installment</th>\n",
       "      <th>grade</th>\n",
       "      <th>sub_grade</th>\n",
       "      <th>emp_title</th>\n",
       "      <th>emp_length</th>\n",
       "      <th>...</th>\n",
       "      <th>initial_list_status</th>\n",
       "      <th>next_pymnt_d</th>\n",
       "      <th>collections_12_mths_ex_med</th>\n",
       "      <th>policy_code</th>\n",
       "      <th>chargeoff_within_12_mths</th>\n",
       "      <th>pub_rec_bankruptcies</th>\n",
       "      <th>tax_liens</th>\n",
       "      <th>income_category</th>\n",
       "      <th>loan_category</th>\n",
       "      <th>dti_category</th>\n",
       "    </tr>\n",
       "  </thead>\n",
       "  <tbody>\n",
       "    <tr>\n",
       "      <th>0</th>\n",
       "      <td>5000</td>\n",
       "      <td>5000</td>\n",
       "      <td>4975.0</td>\n",
       "      <td>36 months</td>\n",
       "      <td>10.65%</td>\n",
       "      <td>162.87</td>\n",
       "      <td>B</td>\n",
       "      <td>B2</td>\n",
       "      <td>NaN</td>\n",
       "      <td>10+ years</td>\n",
       "      <td>...</td>\n",
       "      <td>f</td>\n",
       "      <td>NaN</td>\n",
       "      <td>0.0</td>\n",
       "      <td>1</td>\n",
       "      <td>0.0</td>\n",
       "      <td>0.0</td>\n",
       "      <td>0.0</td>\n",
       "      <td>Low</td>\n",
       "      <td>5K</td>\n",
       "      <td>High( &gt; 20)</td>\n",
       "    </tr>\n",
       "    <tr>\n",
       "      <th>1</th>\n",
       "      <td>2500</td>\n",
       "      <td>2500</td>\n",
       "      <td>2500.0</td>\n",
       "      <td>60 months</td>\n",
       "      <td>15.27%</td>\n",
       "      <td>59.83</td>\n",
       "      <td>C</td>\n",
       "      <td>C4</td>\n",
       "      <td>Ryder</td>\n",
       "      <td>&lt; 1 year</td>\n",
       "      <td>...</td>\n",
       "      <td>f</td>\n",
       "      <td>NaN</td>\n",
       "      <td>0.0</td>\n",
       "      <td>1</td>\n",
       "      <td>0.0</td>\n",
       "      <td>0.0</td>\n",
       "      <td>0.0</td>\n",
       "      <td>Low</td>\n",
       "      <td>5K</td>\n",
       "      <td>Low (0-5)</td>\n",
       "    </tr>\n",
       "    <tr>\n",
       "      <th>2</th>\n",
       "      <td>2400</td>\n",
       "      <td>2400</td>\n",
       "      <td>2400.0</td>\n",
       "      <td>36 months</td>\n",
       "      <td>15.96%</td>\n",
       "      <td>84.33</td>\n",
       "      <td>C</td>\n",
       "      <td>C5</td>\n",
       "      <td>NaN</td>\n",
       "      <td>10+ years</td>\n",
       "      <td>...</td>\n",
       "      <td>f</td>\n",
       "      <td>NaN</td>\n",
       "      <td>0.0</td>\n",
       "      <td>1</td>\n",
       "      <td>0.0</td>\n",
       "      <td>0.0</td>\n",
       "      <td>0.0</td>\n",
       "      <td>Low</td>\n",
       "      <td>5K</td>\n",
       "      <td>Medium(6-20)</td>\n",
       "    </tr>\n",
       "    <tr>\n",
       "      <th>3</th>\n",
       "      <td>10000</td>\n",
       "      <td>10000</td>\n",
       "      <td>10000.0</td>\n",
       "      <td>36 months</td>\n",
       "      <td>13.49%</td>\n",
       "      <td>339.31</td>\n",
       "      <td>C</td>\n",
       "      <td>C1</td>\n",
       "      <td>AIR RESOURCES BOARD</td>\n",
       "      <td>10+ years</td>\n",
       "      <td>...</td>\n",
       "      <td>f</td>\n",
       "      <td>NaN</td>\n",
       "      <td>0.0</td>\n",
       "      <td>1</td>\n",
       "      <td>0.0</td>\n",
       "      <td>0.0</td>\n",
       "      <td>0.0</td>\n",
       "      <td>Medium</td>\n",
       "      <td>5k-15K</td>\n",
       "      <td>Medium(6-20)</td>\n",
       "    </tr>\n",
       "    <tr>\n",
       "      <th>5</th>\n",
       "      <td>5000</td>\n",
       "      <td>5000</td>\n",
       "      <td>5000.0</td>\n",
       "      <td>36 months</td>\n",
       "      <td>7.90%</td>\n",
       "      <td>156.46</td>\n",
       "      <td>A</td>\n",
       "      <td>A4</td>\n",
       "      <td>Veolia Transportaton</td>\n",
       "      <td>3 years</td>\n",
       "      <td>...</td>\n",
       "      <td>f</td>\n",
       "      <td>NaN</td>\n",
       "      <td>0.0</td>\n",
       "      <td>1</td>\n",
       "      <td>0.0</td>\n",
       "      <td>0.0</td>\n",
       "      <td>0.0</td>\n",
       "      <td>Low</td>\n",
       "      <td>5K</td>\n",
       "      <td>Medium(6-20)</td>\n",
       "    </tr>\n",
       "  </tbody>\n",
       "</table>\n",
       "<p>5 rows × 34 columns</p>\n",
       "</div>"
      ],
      "text/plain": [
       "   loan_amnt  funded_amnt  funded_amnt_inv        term int_rate  installment  \\\n",
       "0       5000         5000           4975.0   36 months   10.65%       162.87   \n",
       "1       2500         2500           2500.0   60 months   15.27%        59.83   \n",
       "2       2400         2400           2400.0   36 months   15.96%        84.33   \n",
       "3      10000        10000          10000.0   36 months   13.49%       339.31   \n",
       "5       5000         5000           5000.0   36 months    7.90%       156.46   \n",
       "\n",
       "  grade sub_grade             emp_title emp_length  ... initial_list_status  \\\n",
       "0     B        B2                   NaN  10+ years  ...                   f   \n",
       "1     C        C4                 Ryder   < 1 year  ...                   f   \n",
       "2     C        C5                   NaN  10+ years  ...                   f   \n",
       "3     C        C1   AIR RESOURCES BOARD  10+ years  ...                   f   \n",
       "5     A        A4  Veolia Transportaton    3 years  ...                   f   \n",
       "\n",
       "   next_pymnt_d collections_12_mths_ex_med policy_code  \\\n",
       "0           NaN                        0.0           1   \n",
       "1           NaN                        0.0           1   \n",
       "2           NaN                        0.0           1   \n",
       "3           NaN                        0.0           1   \n",
       "5           NaN                        0.0           1   \n",
       "\n",
       "  chargeoff_within_12_mths pub_rec_bankruptcies tax_liens income_category  \\\n",
       "0                      0.0                  0.0       0.0             Low   \n",
       "1                      0.0                  0.0       0.0             Low   \n",
       "2                      0.0                  0.0       0.0             Low   \n",
       "3                      0.0                  0.0       0.0          Medium   \n",
       "5                      0.0                  0.0       0.0             Low   \n",
       "\n",
       "  loan_category  dti_category  \n",
       "0            5K   High( > 20)  \n",
       "1            5K     Low (0-5)  \n",
       "2            5K  Medium(6-20)  \n",
       "3        5k-15K  Medium(6-20)  \n",
       "5            5K  Medium(6-20)  \n",
       "\n",
       "[5 rows x 34 columns]"
      ]
     },
     "execution_count": 511,
     "metadata": {},
     "output_type": "execute_result"
    }
   ],
   "source": [
    "#Bucketing of dti\n",
    "dti_slab = (0,5, 20,36)\n",
    "category =[\"Low (0-5)\", \"Medium(6-20)\", \"High( > 20)\"]\n",
    "loan[\"dti_category\"] = pd.cut(loan.dti, dti_slab, labels = category)\n",
    "loan.head()"
   ]
  },
  {
   "cell_type": "code",
   "execution_count": 512,
   "id": "9be3506f",
   "metadata": {},
   "outputs": [
    {
     "data": {
      "image/png": "[encoded data removed]",
      "text/plain": [
       "<Figure size 1080x288 with 1 Axes>"
      ]
     },
     "metadata": {
      "needs_background": "light"
     },
     "output_type": "display_data"
    }
   ],
   "source": [
    "plt.figure(figsize=(15,4))\n",
    "loan.dti_category.value_counts().plot.bar()\n",
    "plt.title(\"Debt to income analysis\", fontsize=15)\n",
    "plt.xlabel(\"Debt to income\",fontsize=12)\n",
    "plt.ylabel(\"Count\",fontsize=12)\n",
    "plt.show()"
   ]
  },
  {
   "cell_type": "code",
   "execution_count": 513,
   "id": "0681b804",
   "metadata": {
    "scrolled": true
   },
   "outputs": [
    {
     "data": {
      "image/png": "[encoded data removed]",
      "text/plain": [
       "<Figure size 1080x288 with 1 Axes>"
      ]
     },
     "metadata": {
      "needs_background": "light"
     },
     "output_type": "display_data"
    }
   ],
   "source": [
    "plt.figure(figsize=(15,4))\n",
    "loan[loan.loan_status == \"Charged Off\"].dti_category.value_counts().plot.bar()\n",
    "plt.title(\"Debt to income analysis for charged off loans\", fontsize=15)\n",
    "plt.xlabel(\"Debt to income\",fontsize=12)\n",
    "plt.ylabel(\"Count\",fontsize=12)\n",
    "plt.show()\n"
   ]
  },
  {
   "cell_type": "code",
   "execution_count": 514,
   "id": "8f1e332e",
   "metadata": {},
   "outputs": [
    {
     "data": {
      "text/plain": [
       "dti_category\n",
       "Medium(6-20)    68.258458\n",
       "High( > 20)     19.580439\n",
       "Low (0-5)       12.161102\n",
       "Name: dti_category, dtype: float64"
      ]
     },
     "execution_count": 514,
     "metadata": {},
     "output_type": "execute_result"
    }
   ],
   "source": [
    "(loan.groupby(\"dti_category\")[\"dti_category\"].count() / loan.dti_category.count() * 100).sort_values(ascending=False)"
   ]
  },
  {
   "cell_type": "code",
   "execution_count": 515,
   "id": "8b423a98",
   "metadata": {},
   "outputs": [
    {
     "data": {
      "text/plain": [
       "dti_category\n",
       "Medium(6-20)    67.313489\n",
       "High( > 20)     22.287114\n",
       "Low (0-5)       10.399397\n",
       "Name: dti_category, dtype: float64"
      ]
     },
     "execution_count": 515,
     "metadata": {},
     "output_type": "execute_result"
    }
   ],
   "source": [
    "(loan[loan.loan_status == \"Charged Off\"].groupby(\"dti_category\")[\"dti_category\"].count() / loan[loan.loan_status == \"Charged Off\"].dti_category.count() * 100).sort_values(ascending=False)"
   ]
  },
  {
   "cell_type": "markdown",
   "id": "d30ef657",
   "metadata": {},
   "source": [
    "#### Observation : \n",
    "1. 68% people having medium debt to income ratio ( 5- 20 ) has applied for loan and 67% of same categoty got defaulted"
   ]
  },
  {
   "cell_type": "markdown",
   "id": "22d7a490",
   "metadata": {},
   "source": [
    "##### Analyzing interest rate\n",
    "1. int_rate has Dtype as object\n",
    "2. int_rate do not have any null value"
   ]
  },
  {
   "cell_type": "code",
   "execution_count": 516,
   "id": "8ff5c52c",
   "metadata": {},
   "outputs": [
    {
     "name": "stdout",
     "output_type": "stream",
     "text": [
      "<class 'pandas.core.series.Series'>\n",
      "Int64Index: 35874 entries, 0 to 39716\n",
      "Series name: int_rate\n",
      "Non-Null Count  Dtype \n",
      "--------------  ----- \n",
      "35874 non-null  object\n",
      "dtypes: object(1)\n",
      "memory usage: 560.5+ KB\n"
     ]
    }
   ],
   "source": [
    "loan.int_rate.info()"
   ]
  },
  {
   "cell_type": "code",
   "execution_count": 517,
   "id": "ce91d3c0",
   "metadata": {},
   "outputs": [
    {
     "data": {
      "text/plain": [
       "0"
      ]
     },
     "execution_count": 517,
     "metadata": {},
     "output_type": "execute_result"
    }
   ],
   "source": [
    "loan.int_rate.isnull().sum()"
   ]
  },
  {
   "cell_type": "code",
   "execution_count": 518,
   "id": "c4647fa8",
   "metadata": {},
   "outputs": [],
   "source": [
    "#Converting to float \n",
    "loan.int_rate = loan.int_rate.apply(lambda x : x.replace(\"%\",\"\") if \"%\" in x else 0 )\n",
    "loan.int_rate = loan.int_rate.astype(\"float64\")"
   ]
  },
  {
   "cell_type": "code",
   "execution_count": 519,
   "id": "9b83ac12",
   "metadata": {},
   "outputs": [
    {
     "data": {
      "image/png": "[encoded data removed]",
      "text/plain": [
       "<Figure size 432x288 with 1 Axes>"
      ]
     },
     "metadata": {
      "needs_background": "light"
     },
     "output_type": "display_data"
    }
   ],
   "source": [
    "#Checking if there is any outlair or not\n",
    "loan.int_rate.plot.box()\n",
    "plt.show()"
   ]
  },
  {
   "cell_type": "code",
   "execution_count": 520,
   "id": "a4c3e96b",
   "metadata": {},
   "outputs": [
    {
     "ename": "SyntaxError",
     "evalue": "unmatched ')' (652138707.py, line 2)",
     "output_type": "error",
     "traceback": [
      "\u001b[1;36m  Input \u001b[1;32mIn [520]\u001b[1;36m\u001b[0m\n\u001b[1;33m    plt.figure(figsize=(15,4)))\u001b[0m\n\u001b[1;37m                              ^\u001b[0m\n\u001b[1;31mSyntaxError\u001b[0m\u001b[1;31m:\u001b[0m unmatched ')'\n"
     ]
    }
   ],
   "source": [
    "# Checking the distribution of interest rate charged\n",
    "plt.figure(figsize=(15,4)))\n",
    "sns.set_style(\"dark\")\n",
    "sns.distplot(loan.int_rate,  bins=100,color=\"g\")\n",
    "plt.title(\"Distribution of interest rate\", fontsize=12)\n",
    "plt.xlabel(\"Interest rate\")\n",
    "plt.show()"
   ]
  },
  {
   "cell_type": "code",
   "execution_count": null,
   "id": "01663e87",
   "metadata": {},
   "outputs": [],
   "source": [
    "#Bucketing of interest rate\n",
    "interest_slab = (0,7, 15,30)\n",
    "category =[\"Low (0-7)\", \"Medium(8-15)\", \"High( > 15)\"]\n",
    "loan[\"interest_category\"] = pd.cut(loan.int_rate, interest_slab, labels = category)\n",
    "loan.interest_category.unique()"
   ]
  },
  {
   "cell_type": "code",
   "execution_count": null,
   "id": "45572ef2",
   "metadata": {},
   "outputs": [],
   "source": [
    "plt.figure(figsize=(15,4))\n",
    "loan.interest_category.value_counts().plot.bar()\n",
    "plt.title(\"Interest rates analysis\", fontsize=15)\n",
    "plt.xlabel(\"interest rate\",fontsize=12)\n",
    "plt.ylabel(\"Count\",fontsize=12)\n",
    "plt.show()"
   ]
  },
  {
   "cell_type": "code",
   "execution_count": null,
   "id": "8b789ebe",
   "metadata": {},
   "outputs": [],
   "source": [
    "plt.figure(figsize=(15,4))\n",
    "loan[loan.loan_status == \"Charged Off\"].interest_category.value_counts().plot.bar()\n",
    "plt.title(\"Interest rates of Charged off loans analysis\", fontsize=15)\n",
    "plt.xlabel(\"interest rate\",fontsize=12)\n",
    "plt.ylabel(\"Count\",fontsize=12)\n",
    "plt.show()"
   ]
  },
  {
   "cell_type": "code",
   "execution_count": null,
   "id": "e7296fcd",
   "metadata": {},
   "outputs": [],
   "source": [
    "(loan.groupby(\"interest_category\")[\"interest_category\"].count() / loan.interest_category.count() * 100).sort_values(ascending=False)"
   ]
  },
  {
   "cell_type": "code",
   "execution_count": null,
   "id": "70d75f8f",
   "metadata": {},
   "outputs": [],
   "source": [
    "(loan[loan.loan_status == \"Charged Off\"].groupby(\"interest_category\")[\"interest_category\"].count() / loan[loan.loan_status == \"Charged Off\"].interest_category.count() * 100).sort_values(ascending=False)"
   ]
  },
  {
   "cell_type": "markdown",
   "id": "615d9319",
   "metadata": {},
   "source": [
    "#### Observations\n",
    "1. No outlier treatment is necessary as off now.\n",
    "2. After bucketing the interest rate, we can see 70% loan are given with medium (8-15) % interest rate and 60% og the chared off loan lies in same interest category."
   ]
  },
  {
   "cell_type": "markdown",
   "id": "75f9932f",
   "metadata": {},
   "source": [
    "##### Analyzing employment length"
   ]
  },
  {
   "cell_type": "code",
   "execution_count": null,
   "id": "2421e50a",
   "metadata": {},
   "outputs": [],
   "source": [
    "plt.figure(figsize=(15,4))\n",
    "loan.emp_length.value_counts().plot.bar()\n",
    "plt.title(\"Employment lenth analysis \", fontsize=15)\n",
    "plt.xlabel(\"Employment length\",fontsize=12)\n",
    "plt.ylabel(\"Count\",fontsize=12)\n",
    "plt.show()"
   ]
  },
  {
   "cell_type": "code",
   "execution_count": null,
   "id": "c5b75e36",
   "metadata": {},
   "outputs": [],
   "source": [
    "(loan.groupby(\"emp_length\")[\"emp_length\"].count() / loan.emp_length.count() * 100).sort_values(ascending=False)"
   ]
  },
  {
   "cell_type": "code",
   "execution_count": null,
   "id": "395ed482",
   "metadata": {},
   "outputs": [],
   "source": [
    "#For charged off loans\n",
    "plt.figure(figsize=(15,4))\n",
    "loan[loan.loan_status == \"Charged Off\"].emp_length.value_counts().plot.bar()\n",
    "plt.title(\"Employment lenth analysis for charged off loans\", fontsize=15)\n",
    "plt.xlabel(\"Employment length\",fontsize=12)\n",
    "plt.ylabel(\"Count\",fontsize=12)\n",
    "plt.show()"
   ]
  },
  {
   "cell_type": "code",
   "execution_count": null,
   "id": "4486e25e",
   "metadata": {},
   "outputs": [],
   "source": [
    "(loan[loan.loan_status == \"Charged Off\"].groupby(\"emp_length\")[\"emp_length\"].count() / loan[loan.loan_status == \"Charged Off\"].emp_length.count() * 100).sort_values(ascending=False)"
   ]
  },
  {
   "cell_type": "markdown",
   "id": "d6ed5838",
   "metadata": {},
   "source": [
    "#### Observations :\n",
    "1. Employee having more than 10 years,2 years ,3 years and less than 1 year of employment have taken most loans ( 22%, 12%, 11% and 12% respectively ) and as well become defaulters in almost same rate."
   ]
  },
  {
   "cell_type": "markdown",
   "id": "c074a972",
   "metadata": {},
   "source": [
    "##### Analysing home ownership"
   ]
  },
  {
   "cell_type": "code",
   "execution_count": null,
   "id": "35bbc6c6",
   "metadata": {},
   "outputs": [],
   "source": [
    "plt.figure(figsize=(15,4))\n",
    "loan.home_ownership.value_counts().plot.bar()\n",
    "plt.title(\"Home ownsership analysis\", fontsize=15)\n",
    "plt.xlabel(\"Home ownership type\",fontsize=12)\n",
    "plt.ylabel(\"Count\",fontsize=12)\n",
    "plt.show()"
   ]
  },
  {
   "cell_type": "code",
   "execution_count": null,
   "id": "cf6d15fc",
   "metadata": {},
   "outputs": [],
   "source": [
    "(loan.groupby(\"home_ownership\")[\"home_ownership\"].count() / loan.home_ownership.count() * 100).sort_values(ascending=False)"
   ]
  },
  {
   "cell_type": "code",
   "execution_count": null,
   "id": "6c52ff12",
   "metadata": {},
   "outputs": [],
   "source": [
    "plt.figure(figsize=(15,4))\n",
    "loan[loan.loan_status == \"Charged Off\"].home_ownership.value_counts().plot.bar()\n",
    "plt.title(\"Home ownsership analysis for charged off\", fontsize=15)\n",
    "plt.xlabel(\"Home ownership type\",fontsize=12)\n",
    "plt.ylabel(\"Count\",fontsize=12)\n",
    "plt.show()"
   ]
  },
  {
   "cell_type": "code",
   "execution_count": null,
   "id": "9c427c6f",
   "metadata": {},
   "outputs": [],
   "source": [
    "(loan[loan.loan_status == \"Charged Off\"].groupby(\"home_ownership\")[\"home_ownership\"].count() / loan[loan.loan_status == \"Charged Off\"].home_ownership.count() * 100).sort_values(ascending=False)"
   ]
  },
  {
   "cell_type": "markdown",
   "id": "91a2eb6c",
   "metadata": {},
   "source": [
    "#### Observation\n",
    "1. 50% people living in rent and 42% people having mortgage has applied for loan and defulted in same rate respectively. "
   ]
  },
  {
   "cell_type": "markdown",
   "id": "3c9e84a1",
   "metadata": {},
   "source": [
    "##### Analyzing loan verification status"
   ]
  },
  {
   "cell_type": "code",
   "execution_count": null,
   "id": "124033e0",
   "metadata": {},
   "outputs": [],
   "source": [
    "plt.figure(figsize=(15,4))\n",
    "loan.verification_status.value_counts().plot.bar()\n",
    "plt.title(\"Loan verification status analizing\", fontsize=15)\n",
    "plt.xlabel(\"Loan verification\",fontsize=12)\n",
    "plt.ylabel(\"Count\",fontsize=12)\n",
    "plt.show()"
   ]
  },
  {
   "cell_type": "code",
   "execution_count": null,
   "id": "99efbd97",
   "metadata": {},
   "outputs": [],
   "source": [
    "(loan.groupby(\"verification_status\")[\"verification_status\"].count() / loan.verification_status.count() * 100).sort_values(ascending=False)"
   ]
  },
  {
   "cell_type": "code",
   "execution_count": null,
   "id": "174ccde6",
   "metadata": {},
   "outputs": [],
   "source": [
    "plt.figure(figsize=(15,4))\n",
    "loan[loan.loan_status == \"Charged Off\"].verification_status.value_counts().plot.bar()\n",
    "plt.title(\"Loan verification status of charged off\", fontsize=15)\n",
    "plt.xlabel(\"Loan verification\",fontsize=12)\n",
    "plt.ylabel(\"Count\",fontsize=12)\n",
    "plt.show()"
   ]
  },
  {
   "cell_type": "code",
   "execution_count": null,
   "id": "2dcce2b8",
   "metadata": {},
   "outputs": [],
   "source": [
    "(loan[loan.loan_status == \"Charged Off\"].groupby(\"verification_status\")[\"verification_status\"].count() / loan[loan.loan_status == \"Charged Off\"].verification_status.count() * 100).sort_values(ascending=False)"
   ]
  },
  {
   "cell_type": "markdown",
   "id": "eefac5fe",
   "metadata": {},
   "source": [
    "#### Observations \n",
    "1. verified + source verified loans ( 55% ) are mostly defaulters with respect to non verified loans."
   ]
  },
  {
   "cell_type": "markdown",
   "id": "e0e9615c",
   "metadata": {},
   "source": [
    "##### Analyzing loan issue date"
   ]
  },
  {
   "cell_type": "code",
   "execution_count": null,
   "id": "bc11a32c",
   "metadata": {},
   "outputs": [],
   "source": [
    "# creatig new column for loan issue month and splitting data in issue_d column\n",
    "loan[\"loan_issue_month\"]=loan.issue_d.apply(lambda x : x.split(\"-\")[0].strip())\n",
    "loan.loan_issue_month.unique()"
   ]
  },
  {
   "cell_type": "code",
   "execution_count": null,
   "id": "5efd4743",
   "metadata": {},
   "outputs": [],
   "source": [
    "plt.figure(figsize=(15,4))\n",
    "loan.loan_issue_month.value_counts().plot.bar()\n",
    "plt.title(\"Loan issue month\", fontsize=15)\n",
    "plt.xlabel(\"Month\",fontsize=12)\n",
    "plt.ylabel(\"Count\",fontsize=12)\n",
    "plt.show()"
   ]
  },
  {
   "cell_type": "code",
   "execution_count": null,
   "id": "60bec17d",
   "metadata": {},
   "outputs": [],
   "source": [
    "plt.figure(figsize=(15,4))\n",
    "loan[loan.loan_status == \"Charged Off\"].loan_issue_month.value_counts().plot.bar()\n",
    "plt.title(\"Loan issue month for charged off laons\", fontsize=15)\n",
    "plt.xlabel(\"Month\",fontsize=12)\n",
    "plt.ylabel(\"Count\",fontsize=12)\n",
    "plt.show()"
   ]
  },
  {
   "cell_type": "code",
   "execution_count": null,
   "id": "b17866d3",
   "metadata": {},
   "outputs": [],
   "source": [
    "(loan[loan.loan_status == \"Charged Off\"].groupby(\"loan_issue_month\")[\"loan_issue_month\"].count() / loan[loan.loan_status == \"Charged Off\"].loan_issue_month.count() * 100).sort_values(ascending=False)"
   ]
  },
  {
   "cell_type": "code",
   "execution_count": null,
   "id": "5d184578",
   "metadata": {},
   "outputs": [],
   "source": [
    "plt.figure(figsize=(15,8))\n",
    "#loan[loan.loan_status == \"Charged Off\"].loan_issue_month.value_counts().plot.bar()\n",
    "sns.countplot(x='loan_issue_month', data=loan, hue = 'loan_status' )\n",
    "plt.title(\"Loan issue month Analysis\", fontsize=15)\n",
    "plt.xlabel(\"Month\",fontsize=12)\n",
    "plt.ylabel(\"Count\",fontsize=12)\n",
    "plt.show()"
   ]
  },
  {
   "cell_type": "markdown",
   "id": "0576706b",
   "metadata": {},
   "source": [
    "#### Observations :\n",
    "1. clearly there are three segments months for charged off loan.\n",
    "2. Segment 1 ( Sept, Oct, Nov and Dec ), when the maximun loan were applied and defaulted (43 %) too.\n",
    "3. Segment 2 ( May, Aug, Jun and July ), when good number of loan were applied and defaulted (32%) too.\n",
    "4. Segment 3 ( Jan, Feb, March , Apr ), when mimimum number of loans are applied for and 25% of the loan are charged off."
   ]
  },
  {
   "cell_type": "markdown",
   "id": "426f8a42",
   "metadata": {},
   "source": [
    "##### Analyzing grades and sub grades"
   ]
  },
  {
   "cell_type": "code",
   "execution_count": null,
   "id": "bf3538e0",
   "metadata": {},
   "outputs": [],
   "source": [
    "plt.figure(figsize=(15,4))\n",
    "#loan.grade.value_counts().plot.bar()\n",
    "sns.countplot(x ='grade', data=loan, order = ['A', 'B', 'C', 'D', 'E', 'F', 'G'])\n",
    "plt.title(\"Grade analysis\", fontsize=15)\n",
    "plt.xlabel(\"Grades\",fontsize=12)\n",
    "plt.ylabel(\"Count\",fontsize=12)\n",
    "plt.show()"
   ]
  },
  {
   "cell_type": "code",
   "execution_count": null,
   "id": "88f80320",
   "metadata": {},
   "outputs": [],
   "source": [
    "(loan.groupby(\"grade\")[\"grade\"].count() / loan.grade.count() * 100).sort_values(ascending=False)"
   ]
  },
  {
   "cell_type": "code",
   "execution_count": null,
   "id": "2321d035",
   "metadata": {},
   "outputs": [],
   "source": [
    "plt.figure(figsize=(15,4))\n",
    "sns.countplot(x='grade',data=loan[loan.loan_status == \"Charged Off\"],order = ['A', 'B', 'C', 'D', 'E', 'F', 'G'] )\n",
    "#loan[loan.loan_status == \"Charged Off\"].grade.value_counts().plot.bar()\n",
    "plt.title(\"Grade analysis for charged off loans\", fontsize=15)\n",
    "plt.xlabel(\"Grades\",fontsize=12)\n",
    "plt.ylabel(\"Count\",fontsize=12)\n",
    "plt.show()"
   ]
  },
  {
   "cell_type": "code",
   "execution_count": null,
   "id": "af6c8a4e",
   "metadata": {},
   "outputs": [],
   "source": [
    "(loan[loan.loan_status == \"Charged Off\"].groupby(\"grade\")[\"grade\"].count() / loan[loan.loan_status == \"Charged Off\"].grade.count() * 100).sort_values(ascending=False)"
   ]
  },
  {
   "cell_type": "code",
   "execution_count": null,
   "id": "95737f3c",
   "metadata": {},
   "outputs": [],
   "source": [
    "plt.figure(figsize=(15,4))\n",
    "#loan.sub_grade.value_counts().plot.bar()\n",
    "sns.countplot(x='sub_grade', data=loan)\n",
    "plt.title(\"Sub Grade analysis \", fontsize=15)\n",
    "plt.xlabel(\"Sub Grades\",fontsize=12)\n",
    "plt.ylabel(\"Count\",fontsize=12)\n",
    "plt.show()"
   ]
  },
  {
   "cell_type": "code",
   "execution_count": null,
   "id": "6b233071",
   "metadata": {},
   "outputs": [],
   "source": [
    "plt.figure(figsize=(15,4))\n",
    "#loan[loan.loan_status == \"Charged Off\"].sub_grade.value_counts().plot.bar()\n",
    "sns.countplot(x='sub_grade', data=loan[loan.loan_status == \"Charged Off\"])\n",
    "plt.title(\"Sub Grade analysis for charged off loans\", fontsize=15)\n",
    "plt.xlabel(\"Sub Grades\",fontsize=12)\n",
    "plt.ylabel(\"Count\",fontsize=12)\n",
    "plt.show()"
   ]
  },
  {
   "cell_type": "markdown",
   "id": "7721a0aa",
   "metadata": {},
   "source": [
    "#### Observations : \n",
    "1. Grade C , D and E categry loans are more risky compared to others grade loans as the defaulter percentage (24%, 20 % and 12 % repectively ) is higher than the percentage of people applied for ( 20% 13% and 7% repectively ).\n",
    "2. Not getting any insight of sub gradation from univariate analysys."
   ]
  },
  {
   "cell_type": "markdown",
   "id": "18c019fd",
   "metadata": {},
   "source": [
    "### Bivariate analysis"
   ]
  },
  {
   "cell_type": "markdown",
   "id": "35b1a438",
   "metadata": {},
   "source": [
    " ##### Anlyzing continuious variables"
   ]
  },
  {
   "cell_type": "code",
   "execution_count": null,
   "id": "fcafe841",
   "metadata": {},
   "outputs": [],
   "source": [
    "# creating new column term_month from term having only month number\n",
    "loan[\"term_month\"] = loan.term.apply(lambda x : int(x.strip().split(\" \")[0].strip()))\n",
    "loan.term_month.dtype"
   ]
  },
  {
   "cell_type": "code",
   "execution_count": null,
   "id": "1b17e692",
   "metadata": {},
   "outputs": [],
   "source": [
    "loan.term_month.value_counts()"
   ]
  },
  {
   "cell_type": "code",
   "execution_count": null,
   "id": "2730e7ea",
   "metadata": {},
   "outputs": [],
   "source": [
    "clarged_off_loans =  loan[loan.loan_status == \"Charged Off\"]\n",
    "loan_correlation = clarged_off_loans[[\"loan_amnt\",\"int_rate\",\"annual_inc\",\"dti\",\"term_month\"]].corr()\n",
    "loan_correlation"
   ]
  },
  {
   "cell_type": "code",
   "execution_count": null,
   "id": "5750b8c0",
   "metadata": {},
   "outputs": [],
   "source": [
    "plt.figure(figsize=(12,8))\n",
    "sns.heatmap(loan_correlation,cmap=\"Greens\", annot=True)\n",
    "plt.title(\"Heat map of correlation of few features of charged ogg loans\", fontsize=18)\n",
    "plt.xticks(fontsize=15)\n",
    "plt.yticks(fontsize=15)\n",
    "plt.show()"
   ]
  },
  {
   "cell_type": "markdown",
   "id": "6a29af1e",
   "metadata": {},
   "source": [
    "#### Observations from charged of dataset\n",
    "1. Negavative corelation between dti and annual income is natual as dti is calculated with anual income as denominator.\n",
    "2. Loan term has positive corelation ( ~ 0.4 ) with loan amount and interest rate, so loan with higher term , higher loan amount and higher interest rate have possibility of getting defaulters.\n",
    " "
   ]
  },
  {
   "cell_type": "markdown",
   "id": "f1b314f5",
   "metadata": {},
   "source": [
    "##### Analyzing grade and sub grade "
   ]
  },
  {
   "cell_type": "code",
   "execution_count": null,
   "id": "4512a931",
   "metadata": {},
   "outputs": [],
   "source": [
    "#Extracting sub grade int value from sub grade column\n",
    "loan[\"sub_grade_int\"] = pd.to_numeric(loan.sub_grade.apply(lambda x : x[-1]))\n",
    "loan[[\"sub_grade_int\",\"sub_grade\"]].head(10)"
   ]
  },
  {
   "cell_type": "code",
   "execution_count": null,
   "id": "d068ca2c",
   "metadata": {},
   "outputs": [],
   "source": []
  },
  {
   "cell_type": "code",
   "execution_count": null,
   "id": "3a67324e",
   "metadata": {},
   "outputs": [],
   "source": [
    "plt.figure(figsize=(15,4))\n",
    "sns.countplot(x = 'grade',data = loan, order = ['A', 'B', 'C', 'D', 'E', 'F', 'G'] , hue = 'sub_grade_int')\n",
    "plt.title(\"Grade and sub grade analysis\", fontsize=15)\n",
    "plt.xlabel(\"Grades\",fontsize=12)\n",
    "plt.ylabel(\"Count\",fontsize=12)\n",
    "plt.show()"
   ]
  },
  {
   "cell_type": "code",
   "execution_count": null,
   "id": "26991c1e",
   "metadata": {},
   "outputs": [],
   "source": [
    "plt.figure(figsize=(15,4))\n",
    "sns.countplot(x = 'grade',data = loan[loan.loan_status == \"Charged Off\"], order = ['A', 'B', 'C', 'D', 'E', 'F', 'G'] , hue = 'sub_grade_int')\n",
    "plt.title(\"Grade and sub grade analysis of charged off loans\", fontsize=15)\n",
    "plt.xlabel(\"Grades\",fontsize=12)\n",
    "plt.ylabel(\"Count\",fontsize=12)\n",
    "plt.show()"
   ]
  },
  {
   "cell_type": "markdown",
   "id": "a243cbdc",
   "metadata": {},
   "source": [
    "#### Observations\n",
    "1. From univariate analusis of grade we got following :\n",
    "\n",
    "Grade C , D and E categry loans are more risky compared to others grade loans as the defaulter percentage (24%, 20 % and 12 % repectively ) is higher than the percentage of people applied for ( 20% 13% and 7% repectively ).\n",
    "\n",
    "2. From bivariate analysis,we can observe with in C grade loan, C1 and C2 are more risky.\n",
    "3. From bivariate analysis,we can observe with in D grade loan, D2 and D3 are more risky.\n",
    "4. From bivariate analysis,we can observe with in E grade loan, E1 and E2 are more risky."
   ]
  },
  {
   "cell_type": "markdown",
   "id": "bd1c1f3a",
   "metadata": {},
   "source": [
    "##### Analyzing loan amount with  interest rate "
   ]
  },
  {
   "cell_type": "code",
   "execution_count": null,
   "id": "18bfb2af",
   "metadata": {},
   "outputs": [],
   "source": [
    "sns.catplot(data=loan, x='loan_category', y='int_rate', hue='loan_status', kind='box')\n",
    "plt.title(\"Interest rate Vs Loan \", fontsize=15)\n",
    "plt.xlabel(\"Loan amount \",fontsize=12)\n",
    "plt.ylabel(\"Interest rate\",fontsize=12)\n",
    "plt.show()"
   ]
  },
  {
   "cell_type": "markdown",
   "id": "190d9a0c",
   "metadata": {},
   "source": [
    "##### Analyzing loan amount with loan term"
   ]
  },
  {
   "cell_type": "code",
   "execution_count": null,
   "id": "f52ef166",
   "metadata": {},
   "outputs": [],
   "source": [
    "plt.figure(figsize=(15,4))\n",
    "sns.barplot(data=loan, x='term', y='loan_amnt', hue = 'loan_status')\n",
    "plt.title(\"Loan  vs loan term \", fontsize=15)\n",
    "plt.xlabel(\"Loan amount category\",fontsize=12)\n",
    "plt.ylabel(\"loan term in month\",fontsize=12)\n",
    "plt.show()"
   ]
  },
  {
   "cell_type": "markdown",
   "id": "83a6b12f",
   "metadata": {},
   "source": [
    "##### Analyzing Loan amount with Home ownership"
   ]
  },
  {
   "cell_type": "code",
   "execution_count": null,
   "id": "ab9dad0f",
   "metadata": {},
   "outputs": [],
   "source": [
    "plt.figure(figsize=(15,8))\n",
    "sns.barplot(data=loan, x='home_ownership', y='loan_amnt', hue = 'loan_status')\n",
    "plt.title(\"Loan amount vs Home ownership \", fontsize=15)\n",
    "plt.xlabel(\"Home ownership\",fontsize=12)\n",
    "plt.ylabel(\"loam amount\",fontsize=12)\n",
    "plt.show()"
   ]
  },
  {
   "cell_type": "markdown",
   "id": "2e080105",
   "metadata": {},
   "source": [
    "##### Analyzing loan amount with  purpose of loan"
   ]
  },
  {
   "cell_type": "code",
   "execution_count": null,
   "id": "66c9736b",
   "metadata": {},
   "outputs": [],
   "source": [
    "plt.figure(figsize=(15,8))\n",
    "#sns.catplot(data=loan, x='purpose', y='loan_amnt', hue = 'loan_status',kind='box')\n",
    "sns.barplot(data=loan, x='purpose', y='loan_amnt', hue = 'loan_status')\n",
    "plt.title(\"Loan amount vs Purpose \", fontsize=15)\n",
    "plt.xlabel(\"Purpose\",fontsize=12)\n",
    "plt.ylabel(\"loam amount\",fontsize=12)\n",
    "plt.xticks(rotation=70,fontsize=15)\n",
    "plt.yticks(fontsize=15)\n",
    "plt.show()"
   ]
  },
  {
   "cell_type": "markdown",
   "id": "24029b6a",
   "metadata": {},
   "source": [
    "##### Analyzing loan amount with Employment length"
   ]
  },
  {
   "cell_type": "code",
   "execution_count": null,
   "id": "7392b7a5",
   "metadata": {},
   "outputs": [],
   "source": [
    "plt.figure(figsize=(15,8))\n",
    "sns.barplot(data=loan, x='emp_length', y='loan_amnt', hue = 'loan_status')\n",
    "plt.title(\"Loan amount vs Employment length \", fontsize=15)\n",
    "plt.xlabel(\"Employment length\",fontsize=12)\n",
    "plt.ylabel(\"loam amount\",fontsize=12)\n",
    "plt.xticks(rotation=70,fontsize=15)\n",
    "plt.yticks(fontsize=15)\n",
    "plt.show()"
   ]
  },
  {
   "cell_type": "code",
   "execution_count": null,
   "id": "2ee25762",
   "metadata": {},
   "outputs": [],
   "source": [
    "plt.figure(figsize=(15,8))\n",
    "sns.barplot(data=loan, x='grade', y='loan_amnt', hue = 'loan_status')\n",
    "plt.title(\"Loan amount vs Grade \", fontsize=15)\n",
    "plt.xlabel(\"Grade\",fontsize=12)\n",
    "plt.ylabel(\"loam amount\",fontsize=12)\n",
    "plt.xticks(rotation=70,fontsize=15)\n",
    "plt.yticks(fontsize=15)\n",
    "plt.show()"
   ]
  },
  {
   "cell_type": "markdown",
   "id": "c5f2dad2",
   "metadata": {},
   "source": [
    "#### Observation : \n",
    "1. Interest rate of charged off loan are pretty high than that of fully paid off loans ( compair the 75% and 90% percentile of boxes of each category ).\n",
    "2. Loan with more amout for 60 months tends to be risky.\n",
    "\n",
    "3. Higher loan amount with other and mortage category of home ownership tends to be risky. But there more error data indicated by longer straight line at top of the bar. \n",
    "\n",
    "4. Higher loan amount with purpose as small business, cerit card, wedding, debt consolidation and house seems to be risky loan. \n",
    "\n",
    "5. Higher loan amout taken by folks having employment more than 10 years seems to be risky loan."
   ]
  },
  {
   "cell_type": "markdown",
   "id": "144c4395",
   "metadata": {},
   "source": [
    "##### Analyzing annual income with loan purpose"
   ]
  },
  {
   "cell_type": "code",
   "execution_count": null,
   "id": "a969f705",
   "metadata": {},
   "outputs": [],
   "source": [
    "plt.figure(figsize=(15,8))\n",
    "sns.barplot(data=loan, x='purpose', y='annual_inc', hue = 'loan_status')\n",
    "plt.title(\"Annual income vs loan purpose \", fontsize=15)\n",
    "plt.xlabel(\"Purpose\",fontsize=12)\n",
    "plt.ylabel(\"Annual income\",fontsize=12)\n",
    "plt.xticks(rotation=70,fontsize=15)\n",
    "plt.yticks(fontsize=15)\n",
    "plt.show()"
   ]
  },
  {
   "cell_type": "markdown",
   "id": "898f24de",
   "metadata": {},
   "source": [
    "##### Analyzing annual income with home ownership"
   ]
  },
  {
   "cell_type": "code",
   "execution_count": null,
   "id": "91ae7c49",
   "metadata": {},
   "outputs": [],
   "source": [
    "plt.figure(figsize=(15,8))\n",
    "sns.barplot(data=loan, x='home_ownership', y='annual_inc', hue = 'loan_status')\n",
    "plt.title(\"Annual income vs Howm ownership \", fontsize=15)\n",
    "plt.xlabel(\"Home ownership\",fontsize=12)\n",
    "plt.ylabel(\"Annual income\",fontsize=12)\n",
    "plt.xticks(rotation=70,fontsize=15)\n",
    "plt.yticks(fontsize=15)\n",
    "plt.show()"
   ]
  },
  {
   "cell_type": "code",
   "execution_count": null,
   "id": "42a31f49",
   "metadata": {},
   "outputs": [],
   "source": [
    "# Scatter plot of annual income vs loan amount\n",
    "sns.jointplot(data = loan,x ='annual_inc', y='loan_amnt', hue='loan_status')"
   ]
  },
  {
   "cell_type": "code",
   "execution_count": null,
   "id": "46365d40",
   "metadata": {},
   "outputs": [],
   "source": [
    "# Scatter plot of annual income vs interest rate\n",
    "sns.jointplot(data = loan,x ='annual_inc', y='int_rate', hue='loan_status')"
   ]
  },
  {
   "cell_type": "markdown",
   "id": "4a48231d",
   "metadata": {},
   "source": [
    "#### Observations :\n",
    "1. For middle income group, loan with home ownership mortgage seems to be risky.\n",
    "2. Higher loan amount tends to be risky for middle income group.\n",
    "3. Higher interest rate loan tends to be risky for all income group"
   ]
  },
  {
   "cell_type": "markdown",
   "id": "2991ef46",
   "metadata": {},
   "source": [
    "## Over all observations\n",
    "##### Probability of loan to be more risky ( defauting ) in followiung scenario\n",
    "1. Lender with middle income group ( 40K to 60K ) with higher loan amount.\n",
    "2. Lender accross all income group with higher interest rate.\n",
    "3. Lender with middle income group ( 40K to 60K ) has taken higher loan amount with home ownership as mortgage.\n",
    "4. Loan with more loan amount for longer duration.\n",
    "5. Higher loan amount with purpose as small business, cerit card, wedding, debt consolidation and house.\n",
    "6. Loan with loan grade C with sub grade C1 and C2, grade D with sub grade D2 and D3, grade E with sub grade E1 and E1 having loan amount betweein 10K to 15K."
   ]
  },
  {
   "cell_type": "code",
   "execution_count": null,
   "id": "c766cc85",
   "metadata": {},
   "outputs": [],
   "source": []
  }
 ],
 "metadata": {
  "kernelspec": {
   "display_name": "Python 3 (ipykernel)",
   "language": "python",
   "name": "python3"
  },
  "language_info": {
   "codemirror_mode": {
    "name": "ipython",
    "version": 3
   },
   "file_extension": ".py",
   "mimetype": "text/x-python",
   "name": "python",
   "nbconvert_exporter": "python",
   "pygments_lexer": "ipython3",
   "version": "3.9.12"
  }
 },
 "nbformat": 4,
 "nbformat_minor": 5
}
