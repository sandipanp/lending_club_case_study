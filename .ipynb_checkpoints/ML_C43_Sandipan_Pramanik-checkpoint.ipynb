{
 "cells": [
  {
   "cell_type": "markdown",
   "id": "300dd486",
   "metadata": {},
   "source": [
    "## Lending club Case Study"
   ]
  },
  {
   "cell_type": "markdown",
   "id": "ee55b504",
   "metadata": {},
   "source": [
    "LendingClub is USA’s largest lending marketplace, connecting borrowers with investors since 2007.\n",
    "\n",
    "Both borrower and investor are registered as a member of Lending club. Borrower applied for loan, then lending club platform perform some risk analysis on the applied loan and pass it to investors with approved ammount ( lenders/Investors ). \n",
    "\n",
    "Lenders ( Investors ) makes money from the interest they get from money they lend and Lending club makes money from source fees and other fees."
   ]
  },
  {
   "cell_type": "code",
   "execution_count": 1,
   "id": "bd2e3d9a",
   "metadata": {},
   "outputs": [],
   "source": [
    "import pandas as pd\n",
    "import numpy as np\n",
    "import matplotlib.pyplot as plt\n",
    "%matplotlib inline\n",
    "import warnings\n",
    "warnings.filterwarnings(\"ignore\")\n",
    "import seaborn as sns"
   ]
  },
  {
   "cell_type": "code",
   "execution_count": 5,
   "id": "f3805f3e",
   "metadata": {},
   "outputs": [
    {
     "data": {
      "text/html": [
       "<div>\n",
       "<style scoped>\n",
       "    .dataframe tbody tr th:only-of-type {\n",
       "        vertical-align: middle;\n",
       "    }\n",
       "\n",
       "    .dataframe tbody tr th {\n",
       "        vertical-align: top;\n",
       "    }\n",
       "\n",
       "    .dataframe thead th {\n",
       "        text-align: right;\n",
       "    }\n",
       "</style>\n",
       "<table border=\"1\" class=\"dataframe\">\n",
       "  <thead>\n",
       "    <tr style=\"text-align: right;\">\n",
       "      <th></th>\n",
       "      <th>id</th>\n",
       "      <th>member_id</th>\n",
       "      <th>loan_amnt</th>\n",
       "      <th>funded_amnt</th>\n",
       "      <th>funded_amnt_inv</th>\n",
       "      <th>term</th>\n",
       "      <th>int_rate</th>\n",
       "      <th>installment</th>\n",
       "      <th>grade</th>\n",
       "      <th>sub_grade</th>\n",
       "      <th>...</th>\n",
       "      <th>num_tl_90g_dpd_24m</th>\n",
       "      <th>num_tl_op_past_12m</th>\n",
       "      <th>pct_tl_nvr_dlq</th>\n",
       "      <th>percent_bc_gt_75</th>\n",
       "      <th>pub_rec_bankruptcies</th>\n",
       "      <th>tax_liens</th>\n",
       "      <th>tot_hi_cred_lim</th>\n",
       "      <th>total_bal_ex_mort</th>\n",
       "      <th>total_bc_limit</th>\n",
       "      <th>total_il_high_credit_limit</th>\n",
       "    </tr>\n",
       "  </thead>\n",
       "  <tbody>\n",
       "    <tr>\n",
       "      <th>0</th>\n",
       "      <td>1077501</td>\n",
       "      <td>1296599</td>\n",
       "      <td>5000</td>\n",
       "      <td>5000</td>\n",
       "      <td>4975.0</td>\n",
       "      <td>36 months</td>\n",
       "      <td>10.65%</td>\n",
       "      <td>162.87</td>\n",
       "      <td>B</td>\n",
       "      <td>B2</td>\n",
       "      <td>...</td>\n",
       "      <td>NaN</td>\n",
       "      <td>NaN</td>\n",
       "      <td>NaN</td>\n",
       "      <td>NaN</td>\n",
       "      <td>0.0</td>\n",
       "      <td>0.0</td>\n",
       "      <td>NaN</td>\n",
       "      <td>NaN</td>\n",
       "      <td>NaN</td>\n",
       "      <td>NaN</td>\n",
       "    </tr>\n",
       "    <tr>\n",
       "      <th>1</th>\n",
       "      <td>1077430</td>\n",
       "      <td>1314167</td>\n",
       "      <td>2500</td>\n",
       "      <td>2500</td>\n",
       "      <td>2500.0</td>\n",
       "      <td>60 months</td>\n",
       "      <td>15.27%</td>\n",
       "      <td>59.83</td>\n",
       "      <td>C</td>\n",
       "      <td>C4</td>\n",
       "      <td>...</td>\n",
       "      <td>NaN</td>\n",
       "      <td>NaN</td>\n",
       "      <td>NaN</td>\n",
       "      <td>NaN</td>\n",
       "      <td>0.0</td>\n",
       "      <td>0.0</td>\n",
       "      <td>NaN</td>\n",
       "      <td>NaN</td>\n",
       "      <td>NaN</td>\n",
       "      <td>NaN</td>\n",
       "    </tr>\n",
       "    <tr>\n",
       "      <th>2</th>\n",
       "      <td>1077175</td>\n",
       "      <td>1313524</td>\n",
       "      <td>2400</td>\n",
       "      <td>2400</td>\n",
       "      <td>2400.0</td>\n",
       "      <td>36 months</td>\n",
       "      <td>15.96%</td>\n",
       "      <td>84.33</td>\n",
       "      <td>C</td>\n",
       "      <td>C5</td>\n",
       "      <td>...</td>\n",
       "      <td>NaN</td>\n",
       "      <td>NaN</td>\n",
       "      <td>NaN</td>\n",
       "      <td>NaN</td>\n",
       "      <td>0.0</td>\n",
       "      <td>0.0</td>\n",
       "      <td>NaN</td>\n",
       "      <td>NaN</td>\n",
       "      <td>NaN</td>\n",
       "      <td>NaN</td>\n",
       "    </tr>\n",
       "    <tr>\n",
       "      <th>3</th>\n",
       "      <td>1076863</td>\n",
       "      <td>1277178</td>\n",
       "      <td>10000</td>\n",
       "      <td>10000</td>\n",
       "      <td>10000.0</td>\n",
       "      <td>36 months</td>\n",
       "      <td>13.49%</td>\n",
       "      <td>339.31</td>\n",
       "      <td>C</td>\n",
       "      <td>C1</td>\n",
       "      <td>...</td>\n",
       "      <td>NaN</td>\n",
       "      <td>NaN</td>\n",
       "      <td>NaN</td>\n",
       "      <td>NaN</td>\n",
       "      <td>0.0</td>\n",
       "      <td>0.0</td>\n",
       "      <td>NaN</td>\n",
       "      <td>NaN</td>\n",
       "      <td>NaN</td>\n",
       "      <td>NaN</td>\n",
       "    </tr>\n",
       "    <tr>\n",
       "      <th>4</th>\n",
       "      <td>1075358</td>\n",
       "      <td>1311748</td>\n",
       "      <td>3000</td>\n",
       "      <td>3000</td>\n",
       "      <td>3000.0</td>\n",
       "      <td>60 months</td>\n",
       "      <td>12.69%</td>\n",
       "      <td>67.79</td>\n",
       "      <td>B</td>\n",
       "      <td>B5</td>\n",
       "      <td>...</td>\n",
       "      <td>NaN</td>\n",
       "      <td>NaN</td>\n",
       "      <td>NaN</td>\n",
       "      <td>NaN</td>\n",
       "      <td>0.0</td>\n",
       "      <td>0.0</td>\n",
       "      <td>NaN</td>\n",
       "      <td>NaN</td>\n",
       "      <td>NaN</td>\n",
       "      <td>NaN</td>\n",
       "    </tr>\n",
       "  </tbody>\n",
       "</table>\n",
       "<p>5 rows × 111 columns</p>\n",
       "</div>"
      ],
      "text/plain": [
       "        id  member_id  loan_amnt  funded_amnt  funded_amnt_inv        term  \\\n",
       "0  1077501    1296599       5000         5000           4975.0   36 months   \n",
       "1  1077430    1314167       2500         2500           2500.0   60 months   \n",
       "2  1077175    1313524       2400         2400           2400.0   36 months   \n",
       "3  1076863    1277178      10000        10000          10000.0   36 months   \n",
       "4  1075358    1311748       3000         3000           3000.0   60 months   \n",
       "\n",
       "  int_rate  installment grade sub_grade  ... num_tl_90g_dpd_24m  \\\n",
       "0   10.65%       162.87     B        B2  ...                NaN   \n",
       "1   15.27%        59.83     C        C4  ...                NaN   \n",
       "2   15.96%        84.33     C        C5  ...                NaN   \n",
       "3   13.49%       339.31     C        C1  ...                NaN   \n",
       "4   12.69%        67.79     B        B5  ...                NaN   \n",
       "\n",
       "  num_tl_op_past_12m pct_tl_nvr_dlq  percent_bc_gt_75 pub_rec_bankruptcies  \\\n",
       "0                NaN            NaN               NaN                  0.0   \n",
       "1                NaN            NaN               NaN                  0.0   \n",
       "2                NaN            NaN               NaN                  0.0   \n",
       "3                NaN            NaN               NaN                  0.0   \n",
       "4                NaN            NaN               NaN                  0.0   \n",
       "\n",
       "  tax_liens tot_hi_cred_lim total_bal_ex_mort total_bc_limit  \\\n",
       "0       0.0             NaN               NaN            NaN   \n",
       "1       0.0             NaN               NaN            NaN   \n",
       "2       0.0             NaN               NaN            NaN   \n",
       "3       0.0             NaN               NaN            NaN   \n",
       "4       0.0             NaN               NaN            NaN   \n",
       "\n",
       "  total_il_high_credit_limit  \n",
       "0                        NaN  \n",
       "1                        NaN  \n",
       "2                        NaN  \n",
       "3                        NaN  \n",
       "4                        NaN  \n",
       "\n",
       "[5 rows x 111 columns]"
      ]
     },
     "execution_count": 5,
     "metadata": {},
     "output_type": "execute_result"
    }
   ],
   "source": [
    "# Loading loan data\n",
    "loan = pd.read_csv(\"loan/loan.csv\")\n",
    "loan.head()"
   ]
  },
  {
   "cell_type": "code",
   "execution_count": 4,
   "id": "ccc93bfe",
   "metadata": {},
   "outputs": [
    {
     "data": {
      "text/plain": [
       "(39717, 111)"
      ]
     },
     "execution_count": 4,
     "metadata": {},
     "output_type": "execute_result"
    }
   ],
   "source": [
    "#Detrmining the number of column and rows\n",
    "\n",
    "loan.shape"
   ]
  },
  {
   "cell_type": "markdown",
   "id": "ddf5dc9a",
   "metadata": {},
   "source": [
    "##### Observations :  \n",
    "1. There are 39717 rows and 111 features. So data set is a high dimentional data set. \n",
    "2. We also find there are lots of features that is having only NA value which will not contribute to our analysys.\n",
    "3. There are few features having same constant values which will not contribute to our analysis.\n",
    "4. There are identity columns having unique values which will add any value to the data set for analysis."
   ]
  },
  {
   "cell_type": "markdown",
   "id": "93971068",
   "metadata": {},
   "source": [
    "####  Checking and dropping the columns ( features ) having null values"
   ]
  },
  {
   "cell_type": "code",
   "execution_count": 7,
   "id": "2b49e472",
   "metadata": {},
   "outputs": [
    {
     "data": {
      "text/plain": [
       "id                                 0\n",
       "member_id                          0\n",
       "loan_amnt                          0\n",
       "funded_amnt                        0\n",
       "funded_amnt_inv                    0\n",
       "term                               0\n",
       "int_rate                           0\n",
       "installment                        0\n",
       "grade                              0\n",
       "sub_grade                          0\n",
       "emp_title                       2459\n",
       "emp_length                      1075\n",
       "home_ownership                     0\n",
       "annual_inc                         0\n",
       "verification_status                0\n",
       "issue_d                            0\n",
       "loan_status                        0\n",
       "pymnt_plan                         0\n",
       "url                                0\n",
       "desc                           12940\n",
       "purpose                            0\n",
       "title                             11\n",
       "zip_code                           0\n",
       "addr_state                         0\n",
       "dti                                0\n",
       "delinq_2yrs                        0\n",
       "earliest_cr_line                   0\n",
       "inq_last_6mths                     0\n",
       "mths_since_last_delinq         25682\n",
       "mths_since_last_record         36931\n",
       "open_acc                           0\n",
       "pub_rec                            0\n",
       "revol_bal                          0\n",
       "revol_util                        50\n",
       "total_acc                          0\n",
       "initial_list_status                0\n",
       "out_prncp                          0\n",
       "out_prncp_inv                      0\n",
       "total_pymnt                        0\n",
       "total_pymnt_inv                    0\n",
       "total_rec_prncp                    0\n",
       "total_rec_int                      0\n",
       "total_rec_late_fee                 0\n",
       "recoveries                         0\n",
       "collection_recovery_fee            0\n",
       "last_pymnt_d                      71\n",
       "last_pymnt_amnt                    0\n",
       "next_pymnt_d                   38577\n",
       "last_credit_pull_d                 2\n",
       "collections_12_mths_ex_med        56\n",
       "mths_since_last_major_derog    39717\n",
       "policy_code                        0\n",
       "application_type                   0\n",
       "annual_inc_joint               39717\n",
       "dti_joint                      39717\n",
       "dtype: int64"
      ]
     },
     "execution_count": 7,
     "metadata": {},
     "output_type": "execute_result"
    }
   ],
   "source": [
    "#checking first half of the columns for null value\n",
    "loan.isnull().sum().head(int(loan.shape[1]/2))"
   ]
  },
  {
   "cell_type": "code",
   "execution_count": 8,
   "id": "bb2507ba",
   "metadata": {},
   "outputs": [
    {
     "data": {
      "text/plain": [
       "acc_now_delinq                        0\n",
       "tot_coll_amt                      39717\n",
       "tot_cur_bal                       39717\n",
       "open_acc_6m                       39717\n",
       "open_il_6m                        39717\n",
       "open_il_12m                       39717\n",
       "open_il_24m                       39717\n",
       "mths_since_rcnt_il                39717\n",
       "total_bal_il                      39717\n",
       "il_util                           39717\n",
       "open_rv_12m                       39717\n",
       "open_rv_24m                       39717\n",
       "max_bal_bc                        39717\n",
       "all_util                          39717\n",
       "total_rev_hi_lim                  39717\n",
       "inq_fi                            39717\n",
       "total_cu_tl                       39717\n",
       "inq_last_12m                      39717\n",
       "acc_open_past_24mths              39717\n",
       "avg_cur_bal                       39717\n",
       "bc_open_to_buy                    39717\n",
       "bc_util                           39717\n",
       "chargeoff_within_12_mths             56\n",
       "delinq_amnt                           0\n",
       "mo_sin_old_il_acct                39717\n",
       "mo_sin_old_rev_tl_op              39717\n",
       "mo_sin_rcnt_rev_tl_op             39717\n",
       "mo_sin_rcnt_tl                    39717\n",
       "mort_acc                          39717\n",
       "mths_since_recent_bc              39717\n",
       "mths_since_recent_bc_dlq          39717\n",
       "mths_since_recent_inq             39717\n",
       "mths_since_recent_revol_delinq    39717\n",
       "num_accts_ever_120_pd             39717\n",
       "num_actv_bc_tl                    39717\n",
       "num_actv_rev_tl                   39717\n",
       "num_bc_sats                       39717\n",
       "num_bc_tl                         39717\n",
       "num_il_tl                         39717\n",
       "num_op_rev_tl                     39717\n",
       "num_rev_accts                     39717\n",
       "num_rev_tl_bal_gt_0               39717\n",
       "num_sats                          39717\n",
       "num_tl_120dpd_2m                  39717\n",
       "num_tl_30dpd                      39717\n",
       "num_tl_90g_dpd_24m                39717\n",
       "num_tl_op_past_12m                39717\n",
       "pct_tl_nvr_dlq                    39717\n",
       "percent_bc_gt_75                  39717\n",
       "pub_rec_bankruptcies                697\n",
       "tax_liens                            39\n",
       "tot_hi_cred_lim                   39717\n",
       "total_bal_ex_mort                 39717\n",
       "total_bc_limit                    39717\n",
       "total_il_high_credit_limit        39717\n",
       "dtype: int64"
      ]
     },
     "execution_count": 8,
     "metadata": {},
     "output_type": "execute_result"
    }
   ],
   "source": [
    "#checking second half of the columns for null values\n",
    "loan.isnull().sum().tail(int(loan.shape[1]/2))"
   ]
  },
  {
   "cell_type": "code",
   "execution_count": 9,
   "id": "63a57001",
   "metadata": {},
   "outputs": [],
   "source": [
    "#Dropping columns having all null values\n",
    "loan.dropna(axis=1, how='all', inplace=True)"
   ]
  },
  {
   "cell_type": "code",
   "execution_count": 10,
   "id": "403d86d7",
   "metadata": {},
   "outputs": [
    {
     "data": {
      "text/plain": [
       "(39717, 57)"
      ]
     },
     "execution_count": 10,
     "metadata": {},
     "output_type": "execute_result"
    }
   ],
   "source": [
    "# There was ( 111-57) = 54 columns having all null value. Now the number of column become 57.\n",
    "loan.shape"
   ]
  },
  {
   "cell_type": "code",
   "execution_count": 12,
   "id": "b18adb99",
   "metadata": {},
   "outputs": [
    {
     "name": "stdout",
     "output_type": "stream",
     "text": [
      "<class 'pandas.core.frame.DataFrame'>\n",
      "RangeIndex: 39717 entries, 0 to 39716\n",
      "Data columns (total 57 columns):\n",
      " #   Column                      Non-Null Count  Dtype  \n",
      "---  ------                      --------------  -----  \n",
      " 0   id                          39717 non-null  int64  \n",
      " 1   member_id                   39717 non-null  int64  \n",
      " 2   loan_amnt                   39717 non-null  int64  \n",
      " 3   funded_amnt                 39717 non-null  int64  \n",
      " 4   funded_amnt_inv             39717 non-null  float64\n",
      " 5   term                        39717 non-null  object \n",
      " 6   int_rate                    39717 non-null  object \n",
      " 7   installment                 39717 non-null  float64\n",
      " 8   grade                       39717 non-null  object \n",
      " 9   sub_grade                   39717 non-null  object \n",
      " 10  emp_title                   37258 non-null  object \n",
      " 11  emp_length                  38642 non-null  object \n",
      " 12  home_ownership              39717 non-null  object \n",
      " 13  annual_inc                  39717 non-null  float64\n",
      " 14  verification_status         39717 non-null  object \n",
      " 15  issue_d                     39717 non-null  object \n",
      " 16  loan_status                 39717 non-null  object \n",
      " 17  pymnt_plan                  39717 non-null  object \n",
      " 18  url                         39717 non-null  object \n",
      " 19  desc                        26777 non-null  object \n",
      " 20  purpose                     39717 non-null  object \n",
      " 21  title                       39706 non-null  object \n",
      " 22  zip_code                    39717 non-null  object \n",
      " 23  addr_state                  39717 non-null  object \n",
      " 24  dti                         39717 non-null  float64\n",
      " 25  delinq_2yrs                 39717 non-null  int64  \n",
      " 26  earliest_cr_line            39717 non-null  object \n",
      " 27  inq_last_6mths              39717 non-null  int64  \n",
      " 28  mths_since_last_delinq      14035 non-null  float64\n",
      " 29  mths_since_last_record      2786 non-null   float64\n",
      " 30  open_acc                    39717 non-null  int64  \n",
      " 31  pub_rec                     39717 non-null  int64  \n",
      " 32  revol_bal                   39717 non-null  int64  \n",
      " 33  revol_util                  39667 non-null  object \n",
      " 34  total_acc                   39717 non-null  int64  \n",
      " 35  initial_list_status         39717 non-null  object \n",
      " 36  out_prncp                   39717 non-null  float64\n",
      " 37  out_prncp_inv               39717 non-null  float64\n",
      " 38  total_pymnt                 39717 non-null  float64\n",
      " 39  total_pymnt_inv             39717 non-null  float64\n",
      " 40  total_rec_prncp             39717 non-null  float64\n",
      " 41  total_rec_int               39717 non-null  float64\n",
      " 42  total_rec_late_fee          39717 non-null  float64\n",
      " 43  recoveries                  39717 non-null  float64\n",
      " 44  collection_recovery_fee     39717 non-null  float64\n",
      " 45  last_pymnt_d                39646 non-null  object \n",
      " 46  last_pymnt_amnt             39717 non-null  float64\n",
      " 47  next_pymnt_d                1140 non-null   object \n",
      " 48  last_credit_pull_d          39715 non-null  object \n",
      " 49  collections_12_mths_ex_med  39661 non-null  float64\n",
      " 50  policy_code                 39717 non-null  int64  \n",
      " 51  application_type            39717 non-null  object \n",
      " 52  acc_now_delinq              39717 non-null  int64  \n",
      " 53  chargeoff_within_12_mths    39661 non-null  float64\n",
      " 54  delinq_amnt                 39717 non-null  int64  \n",
      " 55  pub_rec_bankruptcies        39020 non-null  float64\n",
      " 56  tax_liens                   39678 non-null  float64\n",
      "dtypes: float64(20), int64(13), object(24)\n",
      "memory usage: 17.3+ MB\n"
     ]
    }
   ],
   "source": [
    "#Getting the information about load data set\n",
    "loan.info()"
   ]
  },
  {
   "cell_type": "markdown",
   "id": "4dad1df1",
   "metadata": {},
   "source": [
    "#### Dropping the features having same constant value through out.\n",
    "Features with constant values through out\n",
    "1. delinq_amnt\n",
    "2. acc_now_delinq\n",
    "3. pymnt_plan"
   ]
  },
  {
   "cell_type": "code",
   "execution_count": 13,
   "id": "0f208a70",
   "metadata": {},
   "outputs": [],
   "source": [
    "loan.drop(columns =[\"delinq_amnt\",\"acc_now_delinq\",\"pymnt_plan\"], axis=1, inplace=True)"
   ]
  },
  {
   "cell_type": "markdown",
   "id": "5906d973",
   "metadata": {},
   "source": [
    "#### Dropping the identity columns having unique values\n",
    "1. id\n",
    "2. member_id"
   ]
  },
  {
   "cell_type": "code",
   "execution_count": 14,
   "id": "a2893ffc",
   "metadata": {},
   "outputs": [],
   "source": [
    "loan.drop(columns =[\"id\",\"member_id\"], axis=1, inplace=True)"
   ]
  },
  {
   "attachments": {},
   "cell_type": "markdown",
   "id": "fee00b0f",
   "metadata": {},
   "source": [
    "#### Identifying customer behaviour variable and removal\n",
    "Customer behavior variables are not available at the time of loan application, and thus they cannot be used as predictors for credit approval. So following customer behavior variable can be deleted\n",
    "1. delinq_2yrs\n",
    "2. earliest_cr_line\n",
    "3. inq_last_6mths\n",
    "4. open_acc\n",
    "5. pub_rec\n",
    "6. revol_bal\n",
    "7. revol_util\n",
    "8. total_acc\n",
    "9. out_prncp\n",
    "10. out_prncp_inv\n",
    "11. total_pymnt\n",
    "12. total_pymnt_inv\n",
    "13. total_rec_prncp\n",
    "14. total_rec_int\n",
    "15. total_rec_late_fee\n",
    "16. recoveries\n",
    "17. collection_recovery_fee\n",
    "18. last_pymnt_d\n",
    "19. last_pymnt_amnt\n",
    "20. last_credit_pull_d\n",
    "21. application_type"
   ]
  },
  {
   "cell_type": "code",
   "execution_count": 39,
   "id": "362a0ad8",
   "metadata": {},
   "outputs": [],
   "source": [
    "loan.drop(columns =[\"delinq_2yrs\",\"earliest_cr_line\",\"inq_last_6mths\",\"open_acc\",\"pub_rec\",\"revol_bal\",\"revol_util\",\"total_acc\",\"out_prncp\",\"out_prncp_inv\",\"total_pymnt\",\"total_pymnt_inv\",\"total_rec_prncp\",\"total_rec_int\",\"total_rec_late_fee\",\"recoveries\",\"collection_recovery_fee\",\"last_pymnt_d\",\"last_pymnt_amnt\",\"last_credit_pull_d\",\"application_type\"], axis=1, inplace=True)"
   ]
  },
  {
   "cell_type": "code",
   "execution_count": 40,
   "id": "6fcc08fe",
   "metadata": {},
   "outputs": [
    {
     "data": {
      "text/plain": [
       "(39717, 31)"
      ]
     },
     "execution_count": 40,
     "metadata": {},
     "output_type": "execute_result"
    }
   ],
   "source": [
    "#Checking the number of available features now\n",
    "loan.shape"
   ]
  },
  {
   "cell_type": "code",
   "execution_count": 41,
   "id": "a7731901",
   "metadata": {},
   "outputs": [
    {
     "name": "stdout",
     "output_type": "stream",
     "text": [
      "<class 'pandas.core.frame.DataFrame'>\n",
      "RangeIndex: 39717 entries, 0 to 39716\n",
      "Data columns (total 31 columns):\n",
      " #   Column                      Non-Null Count  Dtype  \n",
      "---  ------                      --------------  -----  \n",
      " 0   loan_amnt                   39717 non-null  int64  \n",
      " 1   funded_amnt                 39717 non-null  int64  \n",
      " 2   funded_amnt_inv             39717 non-null  float64\n",
      " 3   term                        39717 non-null  object \n",
      " 4   int_rate                    39717 non-null  object \n",
      " 5   installment                 39717 non-null  float64\n",
      " 6   grade                       39717 non-null  object \n",
      " 7   sub_grade                   39717 non-null  object \n",
      " 8   emp_title                   37258 non-null  object \n",
      " 9   emp_length                  38642 non-null  object \n",
      " 10  home_ownership              39717 non-null  object \n",
      " 11  annual_inc                  39717 non-null  float64\n",
      " 12  verification_status         39717 non-null  object \n",
      " 13  issue_d                     39717 non-null  object \n",
      " 14  loan_status                 39717 non-null  object \n",
      " 15  url                         39717 non-null  object \n",
      " 16  desc                        26777 non-null  object \n",
      " 17  purpose                     39717 non-null  object \n",
      " 18  title                       39706 non-null  object \n",
      " 19  zip_code                    39717 non-null  object \n",
      " 20  addr_state                  39717 non-null  object \n",
      " 21  dti                         39717 non-null  float64\n",
      " 22  mths_since_last_delinq      14035 non-null  float64\n",
      " 23  mths_since_last_record      2786 non-null   float64\n",
      " 24  initial_list_status         39717 non-null  object \n",
      " 25  next_pymnt_d                1140 non-null   object \n",
      " 26  collections_12_mths_ex_med  39661 non-null  float64\n",
      " 27  policy_code                 39717 non-null  int64  \n",
      " 28  chargeoff_within_12_mths    39661 non-null  float64\n",
      " 29  pub_rec_bankruptcies        39020 non-null  float64\n",
      " 30  tax_liens                   39678 non-null  float64\n",
      "dtypes: float64(10), int64(3), object(18)\n",
      "memory usage: 9.4+ MB\n"
     ]
    }
   ],
   "source": [
    "loan.info()"
   ]
  },
  {
   "cell_type": "markdown",
   "id": "839e56ea",
   "metadata": {},
   "source": [
    "### Data Analysis"
   ]
  },
  {
   "cell_type": "markdown",
   "id": "1d8d790b",
   "metadata": {},
   "source": [
    "Since loan status \"current\" is ambiguious as loan defaulter point of view ( this loan might be dafaulter in future ) \n",
    "and analysis is being done to understand the driving factors (or driver variables) behind loan default, we can consider only \"Fully Paid\" and \"Charged Off\" loans."
   ]
  },
  {
   "cell_type": "code",
   "execution_count": 48,
   "id": "41d7b51e",
   "metadata": {},
   "outputs": [],
   "source": [
    "loan = loan[~(loan.loan_status == \"Current\")]"
   ]
  },
  {
   "cell_type": "code",
   "execution_count": 49,
   "id": "b1425cc7",
   "metadata": {},
   "outputs": [
    {
     "data": {
      "text/plain": [
       "(38577, 31)"
      ]
     },
     "execution_count": 49,
     "metadata": {},
     "output_type": "execute_result"
    }
   ],
   "source": [
    "loan.shape"
   ]
  },
  {
   "cell_type": "code",
   "execution_count": null,
   "id": "ea632ee9",
   "metadata": {},
   "outputs": [],
   "source": []
  }
 ],
 "metadata": {
  "kernelspec": {
   "display_name": "Python 3 (ipykernel)",
   "language": "python",
   "name": "python3"
  },
  "language_info": {
   "codemirror_mode": {
    "name": "ipython",
    "version": 3
   },
   "file_extension": ".py",
   "mimetype": "text/x-python",
   "name": "python",
   "nbconvert_exporter": "python",
   "pygments_lexer": "ipython3",
   "version": "3.9.12"
  }
 },
 "nbformat": 4,
 "nbformat_minor": 5
}
